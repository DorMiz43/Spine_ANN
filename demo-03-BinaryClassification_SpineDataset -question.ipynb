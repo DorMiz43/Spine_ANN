{
 "cells": [
  {
   "cell_type": "markdown",
   "metadata": {},
   "source": [
    "### Importing libraraies"
   ]
  },
  {
   "cell_type": "code",
   "execution_count": 711,
   "metadata": {},
   "outputs": [],
   "source": [
    "# import os\n",
    "# import datetime\n",
    "\n",
    "# import pandas as pd\n",
    "# import numpy as np\n",
    "\n",
    "# import matplotlib.pyplot as plt\n",
    "# import seaborn as sns\n",
    "\n",
    "# from sklearn.preprocessing import StandardScaler\n",
    "# from sklearn.metrics import accuracy_score, precision_score, recall_score\n",
    "\n",
    "# import tensorflow as tf\n",
    "\n",
    "# from tensorflow import keras\n",
    "# from tensorflow.keras import layers\n",
    "\n",
    "# tf.keras.backend.clear_session()"
   ]
  },
  {
   "cell_type": "code",
   "execution_count": 712,
   "metadata": {},
   "outputs": [],
   "source": [
    "import pandas as pd\n",
    "import numpy as np\n",
    "\n",
    "import seaborn as sns\n",
    "import matplotlib.pyplot as plt   \n",
    "\n",
    "from sklearn import datasets\n",
    "from sklearn.model_selection import train_test_split\n",
    "from sklearn.preprocessing import StandardScaler\n",
    "from sklearn.metrics import accuracy_score\n",
    "\n",
    "\n",
    "import tensorflow as tf\n",
    "\n",
    "from tensorflow import keras\n",
    "from tensorflow.keras import layers\n",
    "from tensorflow.keras import Model\n",
    "from tensorflow.keras.utils import to_categorical"
   ]
  },
  {
   "cell_type": "markdown",
   "metadata": {},
   "source": [
    "### Loading Dataset\n",
    "\n",
    "#### Lower Back Pain Symptoms Dataset\n",
    "\n",
    "Source: https://www.kaggle.com/sammy123/lower-back-pain-symptoms-dataset"
   ]
  },
  {
   "cell_type": "code",
   "execution_count": 713,
   "metadata": {},
   "outputs": [],
   "source": [
    "spine_data = pd.read_csv('dataset/Dataset_spine.csv', \n",
    "                         skiprows=1,\n",
    "                         names=['pelvic_incidence',\n",
    "                                'pelvic tilt',\n",
    "                                'lumbar_lordosis_angle',\n",
    "                                'sacral_slope',\n",
    "                                'pelvic_radius',\n",
    "                                'degree_spondylolisthesis',\n",
    "                                'pelvic_slope',\n",
    "                                'direct_tilt',\n",
    "                                'thoracic_slope',\n",
    "                                'cervical_tilt',\n",
    "                                'sacrum_angle',\n",
    "                                'scoliosis_slope',\n",
    "                                'class_att'])\n",
    "\n",
    "spine_data = spine_data.sample(frac=1).reset_index(drop=True)"
   ]
  },
  {
   "cell_type": "code",
   "execution_count": 714,
   "metadata": {},
   "outputs": [
    {
     "data": {
      "text/html": [
       "<div>\n",
       "<style scoped>\n",
       "    .dataframe tbody tr th:only-of-type {\n",
       "        vertical-align: middle;\n",
       "    }\n",
       "\n",
       "    .dataframe tbody tr th {\n",
       "        vertical-align: top;\n",
       "    }\n",
       "\n",
       "    .dataframe thead th {\n",
       "        text-align: right;\n",
       "    }\n",
       "</style>\n",
       "<table border=\"1\" class=\"dataframe\">\n",
       "  <thead>\n",
       "    <tr style=\"text-align: right;\">\n",
       "      <th></th>\n",
       "      <th>0</th>\n",
       "      <th>1</th>\n",
       "      <th>2</th>\n",
       "      <th>3</th>\n",
       "      <th>4</th>\n",
       "    </tr>\n",
       "  </thead>\n",
       "  <tbody>\n",
       "    <tr>\n",
       "      <th>pelvic_incidence</th>\n",
       "      <td>84.585607</td>\n",
       "      <td>72.076278</td>\n",
       "      <td>26.147921</td>\n",
       "      <td>36.125683</td>\n",
       "      <td>58.101935</td>\n",
       "    </tr>\n",
       "    <tr>\n",
       "      <th>pelvic tilt</th>\n",
       "      <td>30.361685</td>\n",
       "      <td>18.946176</td>\n",
       "      <td>10.759454</td>\n",
       "      <td>22.758753</td>\n",
       "      <td>14.837639</td>\n",
       "    </tr>\n",
       "    <tr>\n",
       "      <th>lumbar_lordosis_angle</th>\n",
       "      <td>65.479486</td>\n",
       "      <td>51.0</td>\n",
       "      <td>14.0</td>\n",
       "      <td>29.0</td>\n",
       "      <td>79.649838</td>\n",
       "    </tr>\n",
       "    <tr>\n",
       "      <th>sacral_slope</th>\n",
       "      <td>54.223922</td>\n",
       "      <td>53.130102</td>\n",
       "      <td>15.388468</td>\n",
       "      <td>13.366931</td>\n",
       "      <td>43.264295</td>\n",
       "    </tr>\n",
       "    <tr>\n",
       "      <th>pelvic_radius</th>\n",
       "      <td>108.010218</td>\n",
       "      <td>114.213013</td>\n",
       "      <td>125.203296</td>\n",
       "      <td>115.577116</td>\n",
       "      <td>113.587655</td>\n",
       "    </tr>\n",
       "    <tr>\n",
       "      <th>degree_spondylolisthesis</th>\n",
       "      <td>25.118478</td>\n",
       "      <td>1.010041</td>\n",
       "      <td>-10.093108</td>\n",
       "      <td>-3.237562</td>\n",
       "      <td>50.237878</td>\n",
       "    </tr>\n",
       "    <tr>\n",
       "      <th>pelvic_slope</th>\n",
       "      <td>0.341665</td>\n",
       "      <td>0.084621</td>\n",
       "      <td>0.391971</td>\n",
       "      <td>0.126474</td>\n",
       "      <td>0.951361</td>\n",
       "    </tr>\n",
       "    <tr>\n",
       "      <th>direct_tilt</th>\n",
       "      <td>30.4108</td>\n",
       "      <td>12.6031</td>\n",
       "      <td>9.871</td>\n",
       "      <td>25.6206</td>\n",
       "      <td>33.904</td>\n",
       "    </tr>\n",
       "    <tr>\n",
       "      <th>thoracic_slope</th>\n",
       "      <td>15.7092</td>\n",
       "      <td>9.6504</td>\n",
       "      <td>8.6406</td>\n",
       "      <td>15.7438</td>\n",
       "      <td>11.6354</td>\n",
       "    </tr>\n",
       "    <tr>\n",
       "      <th>cervical_tilt</th>\n",
       "      <td>11.58279</td>\n",
       "      <td>10.87581</td>\n",
       "      <td>15.78046</td>\n",
       "      <td>11.5561</td>\n",
       "      <td>12.20428</td>\n",
       "    </tr>\n",
       "    <tr>\n",
       "      <th>sacrum_angle</th>\n",
       "      <td>-1.273566</td>\n",
       "      <td>-16.918585</td>\n",
       "      <td>-19.650163</td>\n",
       "      <td>-18.108941</td>\n",
       "      <td>-22.326717</td>\n",
       "    </tr>\n",
       "    <tr>\n",
       "      <th>scoliosis_slope</th>\n",
       "      <td>29.6399</td>\n",
       "      <td>14.0322</td>\n",
       "      <td>43.955</td>\n",
       "      <td>24.1151</td>\n",
       "      <td>19.5797</td>\n",
       "    </tr>\n",
       "    <tr>\n",
       "      <th>class_att</th>\n",
       "      <td>Abnormal</td>\n",
       "      <td>Abnormal</td>\n",
       "      <td>Abnormal</td>\n",
       "      <td>Abnormal</td>\n",
       "      <td>Abnormal</td>\n",
       "    </tr>\n",
       "  </tbody>\n",
       "</table>\n",
       "</div>"
      ],
      "text/plain": [
       "                                   0           1           2           3  \\\n",
       "pelvic_incidence           84.585607   72.076278   26.147921   36.125683   \n",
       "pelvic tilt                30.361685   18.946176   10.759454   22.758753   \n",
       "lumbar_lordosis_angle      65.479486        51.0        14.0        29.0   \n",
       "sacral_slope               54.223922   53.130102   15.388468   13.366931   \n",
       "pelvic_radius             108.010218  114.213013  125.203296  115.577116   \n",
       "degree_spondylolisthesis   25.118478    1.010041  -10.093108   -3.237562   \n",
       "pelvic_slope                0.341665    0.084621    0.391971    0.126474   \n",
       "direct_tilt                  30.4108     12.6031       9.871     25.6206   \n",
       "thoracic_slope               15.7092      9.6504      8.6406     15.7438   \n",
       "cervical_tilt               11.58279    10.87581    15.78046     11.5561   \n",
       "sacrum_angle               -1.273566  -16.918585  -19.650163  -18.108941   \n",
       "scoliosis_slope              29.6399     14.0322      43.955     24.1151   \n",
       "class_att                   Abnormal    Abnormal    Abnormal    Abnormal   \n",
       "\n",
       "                                   4  \n",
       "pelvic_incidence           58.101935  \n",
       "pelvic tilt                14.837639  \n",
       "lumbar_lordosis_angle      79.649838  \n",
       "sacral_slope               43.264295  \n",
       "pelvic_radius             113.587655  \n",
       "degree_spondylolisthesis   50.237878  \n",
       "pelvic_slope                0.951361  \n",
       "direct_tilt                   33.904  \n",
       "thoracic_slope               11.6354  \n",
       "cervical_tilt               12.20428  \n",
       "sacrum_angle              -22.326717  \n",
       "scoliosis_slope              19.5797  \n",
       "class_att                   Abnormal  "
      ]
     },
     "execution_count": 714,
     "metadata": {},
     "output_type": "execute_result"
    }
   ],
   "source": [
    "spine_data.head().T"
   ]
  },
  {
   "cell_type": "code",
   "execution_count": 715,
   "metadata": {},
   "outputs": [
    {
     "data": {
      "text/plain": [
       "(310, 13)"
      ]
     },
     "execution_count": 715,
     "metadata": {},
     "output_type": "execute_result"
    }
   ],
   "source": [
    "spine_data.shape"
   ]
  },
  {
   "cell_type": "code",
   "execution_count": 716,
   "metadata": {},
   "outputs": [
    {
     "data": {
      "text/plain": [
       "Index(['pelvic_incidence', 'pelvic tilt', 'lumbar_lordosis_angle',\n",
       "       'sacral_slope', 'pelvic_radius', 'degree_spondylolisthesis',\n",
       "       'pelvic_slope', 'direct_tilt', 'thoracic_slope', 'cervical_tilt',\n",
       "       'sacrum_angle', 'scoliosis_slope', 'class_att'],\n",
       "      dtype='object')"
      ]
     },
     "execution_count": 716,
     "metadata": {},
     "output_type": "execute_result"
    }
   ],
   "source": [
    "spine_data.columns"
   ]
  },
  {
   "cell_type": "code",
   "execution_count": 717,
   "metadata": {},
   "outputs": [
    {
     "data": {
      "text/plain": [
       "array(['Abnormal', 'Normal'], dtype=object)"
      ]
     },
     "execution_count": 717,
     "metadata": {},
     "output_type": "execute_result"
    }
   ],
   "source": [
    "spine_data['class_att'].unique()"
   ]
  },
  {
   "cell_type": "code",
   "execution_count": 718,
   "metadata": {},
   "outputs": [
    {
     "data": {
      "text/html": [
       "<div>\n",
       "<style scoped>\n",
       "    .dataframe tbody tr th:only-of-type {\n",
       "        vertical-align: middle;\n",
       "    }\n",
       "\n",
       "    .dataframe tbody tr th {\n",
       "        vertical-align: top;\n",
       "    }\n",
       "\n",
       "    .dataframe thead th {\n",
       "        text-align: right;\n",
       "    }\n",
       "</style>\n",
       "<table border=\"1\" class=\"dataframe\">\n",
       "  <thead>\n",
       "    <tr style=\"text-align: right;\">\n",
       "      <th></th>\n",
       "      <th>count</th>\n",
       "      <th>mean</th>\n",
       "      <th>std</th>\n",
       "      <th>min</th>\n",
       "      <th>25%</th>\n",
       "      <th>50%</th>\n",
       "      <th>75%</th>\n",
       "      <th>max</th>\n",
       "    </tr>\n",
       "  </thead>\n",
       "  <tbody>\n",
       "    <tr>\n",
       "      <th>pelvic_incidence</th>\n",
       "      <td>310.0</td>\n",
       "      <td>60.496653</td>\n",
       "      <td>17.236520</td>\n",
       "      <td>26.147921</td>\n",
       "      <td>46.430294</td>\n",
       "      <td>58.691038</td>\n",
       "      <td>72.877696</td>\n",
       "      <td>129.834041</td>\n",
       "    </tr>\n",
       "    <tr>\n",
       "      <th>pelvic tilt</th>\n",
       "      <td>310.0</td>\n",
       "      <td>17.542822</td>\n",
       "      <td>10.008330</td>\n",
       "      <td>-6.554948</td>\n",
       "      <td>10.667069</td>\n",
       "      <td>16.357689</td>\n",
       "      <td>22.120395</td>\n",
       "      <td>49.431864</td>\n",
       "    </tr>\n",
       "    <tr>\n",
       "      <th>lumbar_lordosis_angle</th>\n",
       "      <td>310.0</td>\n",
       "      <td>51.930930</td>\n",
       "      <td>18.554064</td>\n",
       "      <td>14.000000</td>\n",
       "      <td>37.000000</td>\n",
       "      <td>49.562398</td>\n",
       "      <td>63.000000</td>\n",
       "      <td>125.742385</td>\n",
       "    </tr>\n",
       "    <tr>\n",
       "      <th>sacral_slope</th>\n",
       "      <td>310.0</td>\n",
       "      <td>42.953831</td>\n",
       "      <td>13.423102</td>\n",
       "      <td>13.366931</td>\n",
       "      <td>33.347122</td>\n",
       "      <td>42.404912</td>\n",
       "      <td>52.695888</td>\n",
       "      <td>121.429566</td>\n",
       "    </tr>\n",
       "    <tr>\n",
       "      <th>pelvic_radius</th>\n",
       "      <td>310.0</td>\n",
       "      <td>117.920655</td>\n",
       "      <td>13.317377</td>\n",
       "      <td>70.082575</td>\n",
       "      <td>110.709196</td>\n",
       "      <td>118.268178</td>\n",
       "      <td>125.467674</td>\n",
       "      <td>163.071041</td>\n",
       "    </tr>\n",
       "    <tr>\n",
       "      <th>degree_spondylolisthesis</th>\n",
       "      <td>310.0</td>\n",
       "      <td>26.296694</td>\n",
       "      <td>37.559027</td>\n",
       "      <td>-11.058179</td>\n",
       "      <td>1.603727</td>\n",
       "      <td>11.767934</td>\n",
       "      <td>41.287352</td>\n",
       "      <td>418.543082</td>\n",
       "    </tr>\n",
       "    <tr>\n",
       "      <th>pelvic_slope</th>\n",
       "      <td>310.0</td>\n",
       "      <td>0.472979</td>\n",
       "      <td>0.285787</td>\n",
       "      <td>0.003220</td>\n",
       "      <td>0.224367</td>\n",
       "      <td>0.475989</td>\n",
       "      <td>0.704846</td>\n",
       "      <td>0.998827</td>\n",
       "    </tr>\n",
       "    <tr>\n",
       "      <th>direct_tilt</th>\n",
       "      <td>310.0</td>\n",
       "      <td>21.321526</td>\n",
       "      <td>8.639423</td>\n",
       "      <td>7.027000</td>\n",
       "      <td>13.054400</td>\n",
       "      <td>21.907150</td>\n",
       "      <td>28.954075</td>\n",
       "      <td>36.743900</td>\n",
       "    </tr>\n",
       "    <tr>\n",
       "      <th>thoracic_slope</th>\n",
       "      <td>310.0</td>\n",
       "      <td>13.064511</td>\n",
       "      <td>3.399713</td>\n",
       "      <td>7.037800</td>\n",
       "      <td>10.417800</td>\n",
       "      <td>12.938450</td>\n",
       "      <td>15.889525</td>\n",
       "      <td>19.324000</td>\n",
       "    </tr>\n",
       "    <tr>\n",
       "      <th>cervical_tilt</th>\n",
       "      <td>310.0</td>\n",
       "      <td>11.933317</td>\n",
       "      <td>2.893265</td>\n",
       "      <td>7.030600</td>\n",
       "      <td>9.541140</td>\n",
       "      <td>11.953835</td>\n",
       "      <td>14.371810</td>\n",
       "      <td>16.821080</td>\n",
       "    </tr>\n",
       "    <tr>\n",
       "      <th>sacrum_angle</th>\n",
       "      <td>310.0</td>\n",
       "      <td>-14.053139</td>\n",
       "      <td>12.225582</td>\n",
       "      <td>-35.287375</td>\n",
       "      <td>-24.289522</td>\n",
       "      <td>-14.622856</td>\n",
       "      <td>-3.497094</td>\n",
       "      <td>6.972071</td>\n",
       "    </tr>\n",
       "    <tr>\n",
       "      <th>scoliosis_slope</th>\n",
       "      <td>310.0</td>\n",
       "      <td>25.645981</td>\n",
       "      <td>10.450558</td>\n",
       "      <td>7.007900</td>\n",
       "      <td>17.189075</td>\n",
       "      <td>24.931950</td>\n",
       "      <td>33.979600</td>\n",
       "      <td>44.341200</td>\n",
       "    </tr>\n",
       "  </tbody>\n",
       "</table>\n",
       "</div>"
      ],
      "text/plain": [
       "                          count        mean        std        min         25%  \\\n",
       "pelvic_incidence          310.0   60.496653  17.236520  26.147921   46.430294   \n",
       "pelvic tilt               310.0   17.542822  10.008330  -6.554948   10.667069   \n",
       "lumbar_lordosis_angle     310.0   51.930930  18.554064  14.000000   37.000000   \n",
       "sacral_slope              310.0   42.953831  13.423102  13.366931   33.347122   \n",
       "pelvic_radius             310.0  117.920655  13.317377  70.082575  110.709196   \n",
       "degree_spondylolisthesis  310.0   26.296694  37.559027 -11.058179    1.603727   \n",
       "pelvic_slope              310.0    0.472979   0.285787   0.003220    0.224367   \n",
       "direct_tilt               310.0   21.321526   8.639423   7.027000   13.054400   \n",
       "thoracic_slope            310.0   13.064511   3.399713   7.037800   10.417800   \n",
       "cervical_tilt             310.0   11.933317   2.893265   7.030600    9.541140   \n",
       "sacrum_angle              310.0  -14.053139  12.225582 -35.287375  -24.289522   \n",
       "scoliosis_slope           310.0   25.645981  10.450558   7.007900   17.189075   \n",
       "\n",
       "                                 50%         75%         max  \n",
       "pelvic_incidence           58.691038   72.877696  129.834041  \n",
       "pelvic tilt                16.357689   22.120395   49.431864  \n",
       "lumbar_lordosis_angle      49.562398   63.000000  125.742385  \n",
       "sacral_slope               42.404912   52.695888  121.429566  \n",
       "pelvic_radius             118.268178  125.467674  163.071041  \n",
       "degree_spondylolisthesis   11.767934   41.287352  418.543082  \n",
       "pelvic_slope                0.475989    0.704846    0.998827  \n",
       "direct_tilt                21.907150   28.954075   36.743900  \n",
       "thoracic_slope             12.938450   15.889525   19.324000  \n",
       "cervical_tilt              11.953835   14.371810   16.821080  \n",
       "sacrum_angle              -14.622856   -3.497094    6.972071  \n",
       "scoliosis_slope            24.931950   33.979600   44.341200  "
      ]
     },
     "execution_count": 718,
     "metadata": {},
     "output_type": "execute_result"
    }
   ],
   "source": [
    "spine_data.describe().transpose()"
   ]
  },
  {
   "cell_type": "code",
   "execution_count": 719,
   "metadata": {},
   "outputs": [
    {
     "name": "stderr",
     "output_type": "stream",
     "text": [
      "/Library/Frameworks/Python.framework/Versions/3.10/lib/python3.10/site-packages/seaborn/_decorators.py:36: FutureWarning: Pass the following variable as a keyword arg: x. From version 0.12, the only valid positional argument will be `data`, and passing other arguments without an explicit keyword will result in an error or misinterpretation.\n",
      "  warnings.warn(\n"
     ]
    },
    {
     "data": {
      "image/png": "[encoded data removed]",
      "text/plain": [
       "<Figure size 576x432 with 1 Axes>"
      ]
     },
     "metadata": {
      "needs_background": "light"
     },
     "output_type": "display_data"
    }
   ],
   "source": [
    "plt.figure(figsize=(8, 6))\n",
    "\n",
    "sns.countplot('class_att', data = spine_data)\n",
    "\n",
    "plt.xlabel('class_att', fontsize = 20)\n",
    "plt.ylabel('count', fontsize = 20)\n",
    "\n",
    "plt.show()"
   ]
  },
  {
   "cell_type": "code",
   "execution_count": 720,
   "metadata": {},
   "outputs": [
    {
     "name": "stderr",
     "output_type": "stream",
     "text": [
      "/Library/Frameworks/Python.framework/Versions/3.10/lib/python3.10/site-packages/seaborn/_decorators.py:36: FutureWarning: Pass the following variables as keyword args: x, y. From version 0.12, the only valid positional argument will be `data`, and passing other arguments without an explicit keyword will result in an error or misinterpretation.\n",
      "  warnings.warn(\n"
     ]
    },
    {
     "data": {
      "image/png": "[encoded data removed]",
      "text/plain": [
       "<Figure size 576x432 with 1 Axes>"
      ]
     },
     "metadata": {
      "needs_background": "light"
     },
     "output_type": "display_data"
    }
   ],
   "source": [
    "plt.figure(figsize=(8, 6))\n",
    "\n",
    "sns.boxplot('class_att', 'pelvic_incidence', data = spine_data)\n",
    "\n",
    "plt.xlabel('class_att', fontsize = 20)\n",
    "plt.ylabel('pelvic_incidence', fontsize = 20)\n",
    "\n",
    "plt.show()"
   ]
  },
  {
   "cell_type": "code",
   "execution_count": 721,
   "metadata": {},
   "outputs": [
    {
     "name": "stderr",
     "output_type": "stream",
     "text": [
      "/Library/Frameworks/Python.framework/Versions/3.10/lib/python3.10/site-packages/seaborn/_decorators.py:36: FutureWarning: Pass the following variables as keyword args: x, y. From version 0.12, the only valid positional argument will be `data`, and passing other arguments without an explicit keyword will result in an error or misinterpretation.\n",
      "  warnings.warn(\n"
     ]
    },
    {
     "data": {
      "image/png": "[encoded data removed]",
      "text/plain": [
       "<Figure size 576x432 with 1 Axes>"
      ]
     },
     "metadata": {
      "needs_background": "light"
     },
     "output_type": "display_data"
    }
   ],
   "source": [
    "plt.figure(figsize=(8, 6))\n",
    "\n",
    "sns.boxplot('class_att', 'lumbar_lordosis_angle', data = spine_data)\n",
    "\n",
    "plt.xlabel('class_att', fontsize = 20)\n",
    "plt.ylabel('lumbar_lordosis_angle', fontsize = 20)\n",
    "\n",
    "plt.show()"
   ]
  },
  {
   "cell_type": "code",
   "execution_count": 722,
   "metadata": {},
   "outputs": [
    {
     "name": "stderr",
     "output_type": "stream",
     "text": [
      "/Library/Frameworks/Python.framework/Versions/3.10/lib/python3.10/site-packages/seaborn/_decorators.py:36: FutureWarning: Pass the following variables as keyword args: x, y. From version 0.12, the only valid positional argument will be `data`, and passing other arguments without an explicit keyword will result in an error or misinterpretation.\n",
      "  warnings.warn(\n"
     ]
    },
    {
     "data": {
      "image/png": "[encoded data removed]",
      "text/plain": [
       "<Figure size 576x432 with 1 Axes>"
      ]
     },
     "metadata": {
      "needs_background": "light"
     },
     "output_type": "display_data"
    }
   ],
   "source": [
    "plt.figure(figsize=(8, 6))\n",
    "\n",
    "sns.boxplot('class_att', 'pelvic_radius', data = spine_data)\n",
    "\n",
    "plt.xlabel('class_att', fontsize = 20)\n",
    "plt.ylabel('pelvic_radius', fontsize = 20)\n",
    "\n",
    "plt.show()"
   ]
  },
  {
   "cell_type": "markdown",
   "metadata": {},
   "source": [
    "### Replacing string values with integers in target column"
   ]
  },
  {
   "cell_type": "code",
   "execution_count": 723,
   "metadata": {},
   "outputs": [
    {
     "data": {
      "text/html": [
       "<div>\n",
       "<style scoped>\n",
       "    .dataframe tbody tr th:only-of-type {\n",
       "        vertical-align: middle;\n",
       "    }\n",
       "\n",
       "    .dataframe tbody tr th {\n",
       "        vertical-align: top;\n",
       "    }\n",
       "\n",
       "    .dataframe thead th {\n",
       "        text-align: right;\n",
       "    }\n",
       "</style>\n",
       "<table border=\"1\" class=\"dataframe\">\n",
       "  <thead>\n",
       "    <tr style=\"text-align: right;\">\n",
       "      <th></th>\n",
       "      <th>class_att</th>\n",
       "    </tr>\n",
       "  </thead>\n",
       "  <tbody>\n",
       "    <tr>\n",
       "      <th>76</th>\n",
       "      <td>0</td>\n",
       "    </tr>\n",
       "    <tr>\n",
       "      <th>291</th>\n",
       "      <td>0</td>\n",
       "    </tr>\n",
       "    <tr>\n",
       "      <th>224</th>\n",
       "      <td>0</td>\n",
       "    </tr>\n",
       "    <tr>\n",
       "      <th>124</th>\n",
       "      <td>0</td>\n",
       "    </tr>\n",
       "    <tr>\n",
       "      <th>61</th>\n",
       "      <td>0</td>\n",
       "    </tr>\n",
       "    <tr>\n",
       "      <th>51</th>\n",
       "      <td>1</td>\n",
       "    </tr>\n",
       "    <tr>\n",
       "      <th>233</th>\n",
       "      <td>0</td>\n",
       "    </tr>\n",
       "    <tr>\n",
       "      <th>197</th>\n",
       "      <td>1</td>\n",
       "    </tr>\n",
       "    <tr>\n",
       "      <th>149</th>\n",
       "      <td>0</td>\n",
       "    </tr>\n",
       "    <tr>\n",
       "      <th>306</th>\n",
       "      <td>0</td>\n",
       "    </tr>\n",
       "  </tbody>\n",
       "</table>\n",
       "</div>"
      ],
      "text/plain": [
       "     class_att\n",
       "76           0\n",
       "291          0\n",
       "224          0\n",
       "124          0\n",
       "61           0\n",
       "51           1\n",
       "233          0\n",
       "197          1\n",
       "149          0\n",
       "306          0"
      ]
     },
     "execution_count": 723,
     "metadata": {},
     "output_type": "execute_result"
    }
   ],
   "source": [
    "class_att = {'Abnormal':0, 'Normal':1}\n",
    "\n",
    "spine_data['class_att'].replace(class_att, inplace=True)\n",
    "\n",
    "spine_data[['class_att']].sample(10)"
   ]
  },
  {
   "cell_type": "code",
   "execution_count": 724,
   "metadata": {},
   "outputs": [],
   "source": [
    "features = spine_data.drop('class_att', axis=1)\n",
    "\n",
    "target = spine_data[['class_att']]"
   ]
  },
  {
   "cell_type": "code",
   "execution_count": 725,
   "metadata": {},
   "outputs": [
    {
     "data": {
      "text/html": [
       "<div>\n",
       "<style scoped>\n",
       "    .dataframe tbody tr th:only-of-type {\n",
       "        vertical-align: middle;\n",
       "    }\n",
       "\n",
       "    .dataframe tbody tr th {\n",
       "        vertical-align: top;\n",
       "    }\n",
       "\n",
       "    .dataframe thead th {\n",
       "        text-align: right;\n",
       "    }\n",
       "</style>\n",
       "<table border=\"1\" class=\"dataframe\">\n",
       "  <thead>\n",
       "    <tr style=\"text-align: right;\">\n",
       "      <th></th>\n",
       "      <th>30</th>\n",
       "      <th>83</th>\n",
       "      <th>55</th>\n",
       "      <th>244</th>\n",
       "      <th>29</th>\n",
       "    </tr>\n",
       "  </thead>\n",
       "  <tbody>\n",
       "    <tr>\n",
       "      <th>pelvic_incidence</th>\n",
       "      <td>65.013773</td>\n",
       "      <td>41.767732</td>\n",
       "      <td>33.041688</td>\n",
       "      <td>50.819268</td>\n",
       "      <td>57.145851</td>\n",
       "    </tr>\n",
       "    <tr>\n",
       "      <th>pelvic tilt</th>\n",
       "      <td>9.838262</td>\n",
       "      <td>17.899402</td>\n",
       "      <td>-0.324678</td>\n",
       "      <td>15.402213</td>\n",
       "      <td>16.489091</td>\n",
       "    </tr>\n",
       "    <tr>\n",
       "      <th>lumbar_lordosis_angle</th>\n",
       "      <td>57.735837</td>\n",
       "      <td>20.030886</td>\n",
       "      <td>19.071075</td>\n",
       "      <td>42.528939</td>\n",
       "      <td>42.842148</td>\n",
       "    </tr>\n",
       "    <tr>\n",
       "      <th>sacral_slope</th>\n",
       "      <td>55.175511</td>\n",
       "      <td>23.868330</td>\n",
       "      <td>33.366366</td>\n",
       "      <td>35.417055</td>\n",
       "      <td>40.656760</td>\n",
       "    </tr>\n",
       "    <tr>\n",
       "      <th>pelvic_radius</th>\n",
       "      <td>94.738525</td>\n",
       "      <td>118.363389</td>\n",
       "      <td>120.388611</td>\n",
       "      <td>112.192804</td>\n",
       "      <td>113.806178</td>\n",
       "    </tr>\n",
       "    <tr>\n",
       "      <th>degree_spondylolisthesis</th>\n",
       "      <td>49.696955</td>\n",
       "      <td>2.062963</td>\n",
       "      <td>9.354365</td>\n",
       "      <td>10.869566</td>\n",
       "      <td>5.015186</td>\n",
       "    </tr>\n",
       "    <tr>\n",
       "      <th>pelvic_slope</th>\n",
       "      <td>0.151994</td>\n",
       "      <td>0.371351</td>\n",
       "      <td>0.167309</td>\n",
       "      <td>0.678987</td>\n",
       "      <td>0.223550</td>\n",
       "    </tr>\n",
       "    <tr>\n",
       "      <th>direct_tilt</th>\n",
       "      <td>14.398600</td>\n",
       "      <td>21.113600</td>\n",
       "      <td>17.196000</td>\n",
       "      <td>7.110300</td>\n",
       "      <td>25.748500</td>\n",
       "    </tr>\n",
       "    <tr>\n",
       "      <th>thoracic_slope</th>\n",
       "      <td>8.902400</td>\n",
       "      <td>7.164600</td>\n",
       "      <td>11.246600</td>\n",
       "      <td>7.248100</td>\n",
       "      <td>9.509200</td>\n",
       "    </tr>\n",
       "    <tr>\n",
       "      <th>cervical_tilt</th>\n",
       "      <td>10.842950</td>\n",
       "      <td>9.820290</td>\n",
       "      <td>9.144630</td>\n",
       "      <td>9.947850</td>\n",
       "      <td>7.062950</td>\n",
       "    </tr>\n",
       "    <tr>\n",
       "      <th>sacrum_angle</th>\n",
       "      <td>6.573829</td>\n",
       "      <td>-6.841914</td>\n",
       "      <td>-29.114560</td>\n",
       "      <td>-17.379206</td>\n",
       "      <td>-31.862036</td>\n",
       "    </tr>\n",
       "    <tr>\n",
       "      <th>scoliosis_slope</th>\n",
       "      <td>35.102500</td>\n",
       "      <td>11.615600</td>\n",
       "      <td>40.924900</td>\n",
       "      <td>14.718700</td>\n",
       "      <td>24.352200</td>\n",
       "    </tr>\n",
       "  </tbody>\n",
       "</table>\n",
       "</div>"
      ],
      "text/plain": [
       "                                30          83          55          244  \\\n",
       "pelvic_incidence          65.013773   41.767732   33.041688   50.819268   \n",
       "pelvic tilt                9.838262   17.899402   -0.324678   15.402213   \n",
       "lumbar_lordosis_angle     57.735837   20.030886   19.071075   42.528939   \n",
       "sacral_slope              55.175511   23.868330   33.366366   35.417055   \n",
       "pelvic_radius             94.738525  118.363389  120.388611  112.192804   \n",
       "degree_spondylolisthesis  49.696955    2.062963    9.354365   10.869566   \n",
       "pelvic_slope               0.151994    0.371351    0.167309    0.678987   \n",
       "direct_tilt               14.398600   21.113600   17.196000    7.110300   \n",
       "thoracic_slope             8.902400    7.164600   11.246600    7.248100   \n",
       "cervical_tilt             10.842950    9.820290    9.144630    9.947850   \n",
       "sacrum_angle               6.573829   -6.841914  -29.114560  -17.379206   \n",
       "scoliosis_slope           35.102500   11.615600   40.924900   14.718700   \n",
       "\n",
       "                                 29   \n",
       "pelvic_incidence           57.145851  \n",
       "pelvic tilt                16.489091  \n",
       "lumbar_lordosis_angle      42.842148  \n",
       "sacral_slope               40.656760  \n",
       "pelvic_radius             113.806178  \n",
       "degree_spondylolisthesis    5.015186  \n",
       "pelvic_slope                0.223550  \n",
       "direct_tilt                25.748500  \n",
       "thoracic_slope              9.509200  \n",
       "cervical_tilt               7.062950  \n",
       "sacrum_angle              -31.862036  \n",
       "scoliosis_slope            24.352200  "
      ]
     },
     "execution_count": 725,
     "metadata": {},
     "output_type": "execute_result"
    }
   ],
   "source": [
    "features.sample(5).T"
   ]
  },
  {
   "cell_type": "code",
   "execution_count": 726,
   "metadata": {},
   "outputs": [
    {
     "data": {
      "text/html": [
       "<div>\n",
       "<style scoped>\n",
       "    .dataframe tbody tr th:only-of-type {\n",
       "        vertical-align: middle;\n",
       "    }\n",
       "\n",
       "    .dataframe tbody tr th {\n",
       "        vertical-align: top;\n",
       "    }\n",
       "\n",
       "    .dataframe thead th {\n",
       "        text-align: right;\n",
       "    }\n",
       "</style>\n",
       "<table border=\"1\" class=\"dataframe\">\n",
       "  <thead>\n",
       "    <tr style=\"text-align: right;\">\n",
       "      <th></th>\n",
       "      <th>class_att</th>\n",
       "    </tr>\n",
       "  </thead>\n",
       "  <tbody>\n",
       "    <tr>\n",
       "      <th>166</th>\n",
       "      <td>0</td>\n",
       "    </tr>\n",
       "    <tr>\n",
       "      <th>52</th>\n",
       "      <td>1</td>\n",
       "    </tr>\n",
       "    <tr>\n",
       "      <th>43</th>\n",
       "      <td>0</td>\n",
       "    </tr>\n",
       "    <tr>\n",
       "      <th>77</th>\n",
       "      <td>0</td>\n",
       "    </tr>\n",
       "    <tr>\n",
       "      <th>211</th>\n",
       "      <td>0</td>\n",
       "    </tr>\n",
       "  </tbody>\n",
       "</table>\n",
       "</div>"
      ],
      "text/plain": [
       "     class_att\n",
       "166          0\n",
       "52           1\n",
       "43           0\n",
       "77           0\n",
       "211          0"
      ]
     },
     "execution_count": 726,
     "metadata": {},
     "output_type": "execute_result"
    }
   ],
   "source": [
    "target.sample(5)"
   ]
  },
  {
   "cell_type": "code",
   "execution_count": 727,
   "metadata": {},
   "outputs": [
    {
     "data": {
      "text/html": [
       "<div>\n",
       "<style scoped>\n",
       "    .dataframe tbody tr th:only-of-type {\n",
       "        vertical-align: middle;\n",
       "    }\n",
       "\n",
       "    .dataframe tbody tr th {\n",
       "        vertical-align: top;\n",
       "    }\n",
       "\n",
       "    .dataframe thead th {\n",
       "        text-align: right;\n",
       "    }\n",
       "</style>\n",
       "<table border=\"1\" class=\"dataframe\">\n",
       "  <thead>\n",
       "    <tr style=\"text-align: right;\">\n",
       "      <th></th>\n",
       "      <th>count</th>\n",
       "      <th>mean</th>\n",
       "      <th>std</th>\n",
       "      <th>min</th>\n",
       "      <th>25%</th>\n",
       "      <th>50%</th>\n",
       "      <th>75%</th>\n",
       "      <th>max</th>\n",
       "    </tr>\n",
       "  </thead>\n",
       "  <tbody>\n",
       "    <tr>\n",
       "      <th>pelvic_incidence</th>\n",
       "      <td>310.0</td>\n",
       "      <td>-8.595275e-17</td>\n",
       "      <td>1.001617</td>\n",
       "      <td>-1.996010</td>\n",
       "      <td>-0.817398</td>\n",
       "      <td>-0.104925</td>\n",
       "      <td>0.719464</td>\n",
       "      <td>4.029206</td>\n",
       "    </tr>\n",
       "    <tr>\n",
       "      <th>pelvic tilt</th>\n",
       "      <td>310.0</td>\n",
       "      <td>2.206121e-16</td>\n",
       "      <td>1.001617</td>\n",
       "      <td>-2.411664</td>\n",
       "      <td>-0.688114</td>\n",
       "      <td>-0.118606</td>\n",
       "      <td>0.458116</td>\n",
       "      <td>3.191402</td>\n",
       "    </tr>\n",
       "    <tr>\n",
       "      <th>lumbar_lordosis_angle</th>\n",
       "      <td>310.0</td>\n",
       "      <td>1.833659e-16</td>\n",
       "      <td>1.001617</td>\n",
       "      <td>-2.047652</td>\n",
       "      <td>-0.806027</td>\n",
       "      <td>-0.127862</td>\n",
       "      <td>0.597549</td>\n",
       "      <td>3.984615</td>\n",
       "    </tr>\n",
       "    <tr>\n",
       "      <th>sacral_slope</th>\n",
       "      <td>310.0</td>\n",
       "      <td>-1.317942e-16</td>\n",
       "      <td>1.001617</td>\n",
       "      <td>-2.207741</td>\n",
       "      <td>-0.716842</td>\n",
       "      <td>-0.040960</td>\n",
       "      <td>0.726941</td>\n",
       "      <td>5.855771</td>\n",
       "    </tr>\n",
       "    <tr>\n",
       "      <th>pelvic_radius</th>\n",
       "      <td>310.0</td>\n",
       "      <td>4.068430e-16</td>\n",
       "      <td>1.001617</td>\n",
       "      <td>-3.597963</td>\n",
       "      <td>-0.542383</td>\n",
       "      <td>0.026138</td>\n",
       "      <td>0.567621</td>\n",
       "      <td>3.395818</td>\n",
       "    </tr>\n",
       "    <tr>\n",
       "      <th>degree_spondylolisthesis</th>\n",
       "      <td>310.0</td>\n",
       "      <td>-1.432546e-17</td>\n",
       "      <td>1.001617</td>\n",
       "      <td>-0.996172</td>\n",
       "      <td>-0.658507</td>\n",
       "      <td>-0.387450</td>\n",
       "      <td>0.399768</td>\n",
       "      <td>10.460350</td>\n",
       "    </tr>\n",
       "    <tr>\n",
       "      <th>pelvic_slope</th>\n",
       "      <td>310.0</td>\n",
       "      <td>3.438110e-17</td>\n",
       "      <td>1.001617</td>\n",
       "      <td>-1.646397</td>\n",
       "      <td>-0.871329</td>\n",
       "      <td>0.010547</td>\n",
       "      <td>0.812640</td>\n",
       "      <td>1.842974</td>\n",
       "    </tr>\n",
       "    <tr>\n",
       "      <th>direct_tilt</th>\n",
       "      <td>310.0</td>\n",
       "      <td>8.487834e-17</td>\n",
       "      <td>1.001617</td>\n",
       "      <td>-1.657245</td>\n",
       "      <td>-0.958454</td>\n",
       "      <td>0.067895</td>\n",
       "      <td>0.884884</td>\n",
       "      <td>1.788002</td>\n",
       "    </tr>\n",
       "    <tr>\n",
       "      <th>thoracic_slope</th>\n",
       "      <td>310.0</td>\n",
       "      <td>-2.578583e-16</td>\n",
       "      <td>1.001617</td>\n",
       "      <td>-1.775578</td>\n",
       "      <td>-0.779769</td>\n",
       "      <td>-0.037140</td>\n",
       "      <td>0.832300</td>\n",
       "      <td>1.844158</td>\n",
       "    </tr>\n",
       "    <tr>\n",
       "      <th>cervical_tilt</th>\n",
       "      <td>310.0</td>\n",
       "      <td>-4.383590e-16</td>\n",
       "      <td>1.001617</td>\n",
       "      <td>-1.697267</td>\n",
       "      <td>-0.828145</td>\n",
       "      <td>0.007103</td>\n",
       "      <td>0.844180</td>\n",
       "      <td>1.692090</td>\n",
       "    </tr>\n",
       "    <tr>\n",
       "      <th>sacrum_angle</th>\n",
       "      <td>310.0</td>\n",
       "      <td>-7.449238e-17</td>\n",
       "      <td>1.001617</td>\n",
       "      <td>-1.739677</td>\n",
       "      <td>-0.838646</td>\n",
       "      <td>-0.046676</td>\n",
       "      <td>0.864835</td>\n",
       "      <td>1.722552</td>\n",
       "    </tr>\n",
       "    <tr>\n",
       "      <th>scoliosis_slope</th>\n",
       "      <td>310.0</td>\n",
       "      <td>2.521281e-16</td>\n",
       "      <td>1.001617</td>\n",
       "      <td>-1.786337</td>\n",
       "      <td>-0.810538</td>\n",
       "      <td>-0.068435</td>\n",
       "      <td>0.798722</td>\n",
       "      <td>1.791813</td>\n",
       "    </tr>\n",
       "  </tbody>\n",
       "</table>\n",
       "</div>"
      ],
      "text/plain": [
       "                          count          mean       std       min       25%  \\\n",
       "pelvic_incidence          310.0 -8.595275e-17  1.001617 -1.996010 -0.817398   \n",
       "pelvic tilt               310.0  2.206121e-16  1.001617 -2.411664 -0.688114   \n",
       "lumbar_lordosis_angle     310.0  1.833659e-16  1.001617 -2.047652 -0.806027   \n",
       "sacral_slope              310.0 -1.317942e-16  1.001617 -2.207741 -0.716842   \n",
       "pelvic_radius             310.0  4.068430e-16  1.001617 -3.597963 -0.542383   \n",
       "degree_spondylolisthesis  310.0 -1.432546e-17  1.001617 -0.996172 -0.658507   \n",
       "pelvic_slope              310.0  3.438110e-17  1.001617 -1.646397 -0.871329   \n",
       "direct_tilt               310.0  8.487834e-17  1.001617 -1.657245 -0.958454   \n",
       "thoracic_slope            310.0 -2.578583e-16  1.001617 -1.775578 -0.779769   \n",
       "cervical_tilt             310.0 -4.383590e-16  1.001617 -1.697267 -0.828145   \n",
       "sacrum_angle              310.0 -7.449238e-17  1.001617 -1.739677 -0.838646   \n",
       "scoliosis_slope           310.0  2.521281e-16  1.001617 -1.786337 -0.810538   \n",
       "\n",
       "                               50%       75%        max  \n",
       "pelvic_incidence         -0.104925  0.719464   4.029206  \n",
       "pelvic tilt              -0.118606  0.458116   3.191402  \n",
       "lumbar_lordosis_angle    -0.127862  0.597549   3.984615  \n",
       "sacral_slope             -0.040960  0.726941   5.855771  \n",
       "pelvic_radius             0.026138  0.567621   3.395818  \n",
       "degree_spondylolisthesis -0.387450  0.399768  10.460350  \n",
       "pelvic_slope              0.010547  0.812640   1.842974  \n",
       "direct_tilt               0.067895  0.884884   1.788002  \n",
       "thoracic_slope           -0.037140  0.832300   1.844158  \n",
       "cervical_tilt             0.007103  0.844180   1.692090  \n",
       "sacrum_angle             -0.046676  0.864835   1.722552  \n",
       "scoliosis_slope          -0.068435  0.798722   1.791813  "
      ]
     },
     "execution_count": 727,
     "metadata": {},
     "output_type": "execute_result"
    }
   ],
   "source": [
    "standardScaler = StandardScaler()\n",
    "\n",
    "scaled_features = pd.DataFrame(standardScaler.fit_transform(features), \n",
    "                               columns=features.columns,\n",
    "                               index=features.index)\n",
    "\n",
    "scaled_features.describe().T"
   ]
  },
  {
   "cell_type": "code",
   "execution_count": 728,
   "metadata": {},
   "outputs": [
    {
     "data": {
      "text/plain": [
       "(310, 12)"
      ]
     },
     "execution_count": 728,
     "metadata": {},
     "output_type": "execute_result"
    }
   ],
   "source": [
    "scaled_features.shape"
   ]
  },
  {
   "cell_type": "markdown",
   "metadata": {},
   "source": [
    "### Splitting dataset into training and testing"
   ]
  },
  {
   "cell_type": "code",
   "execution_count": 729,
   "metadata": {},
   "outputs": [],
   "source": [
    "from sklearn.model_selection import train_test_split\n",
    "\n",
    "x_train, x_test, y_train, y_test = train_test_split(scaled_features, \n",
    "                                                    target, \n",
    "                                                    test_size=0.15,\n",
    "                                                    random_state=10)"
   ]
  },
  {
   "cell_type": "code",
   "execution_count": 730,
   "metadata": {},
   "outputs": [
    {
     "data": {
      "text/plain": [
       "((263, 12), (47, 12))"
      ]
     },
     "execution_count": 730,
     "metadata": {},
     "output_type": "execute_result"
    }
   ],
   "source": [
    "x_train.shape, x_test.shape"
   ]
  },
  {
   "cell_type": "code",
   "execution_count": 731,
   "metadata": {},
   "outputs": [],
   "source": [
    "x_train, x_val, y_train, y_val = train_test_split(x_train, \n",
    "                                                  y_train, \n",
    "                                                  test_size=0.15,\n",
    "                                                  random_state=10)"
   ]
  },
  {
   "cell_type": "code",
   "execution_count": 732,
   "metadata": {},
   "outputs": [
    {
     "data": {
      "text/plain": [
       "((223, 12), (40, 12), (47, 12))"
      ]
     },
     "execution_count": 732,
     "metadata": {},
     "output_type": "execute_result"
    }
   ],
   "source": [
    "x_train.shape, x_val.shape, x_test.shape"
   ]
  },
  {
   "cell_type": "code",
   "execution_count": 733,
   "metadata": {},
   "outputs": [
    {
     "data": {
      "text/plain": [
       "((223, 1), (40, 1), (47, 1))"
      ]
     },
     "execution_count": 733,
     "metadata": {},
     "output_type": "execute_result"
    }
   ],
   "source": [
    "y_train.shape, y_val.shape, y_test.shape"
   ]
  },
  {
   "cell_type": "markdown",
   "metadata": {},
   "source": [
    "### Building model : Like  x = layers.Dense(...)"
   ]
  },
  {
   "cell_type": "markdown",
   "metadata": {},
   "source": [
    "1. לבנות מבנה בצורת functional keras (טנסור אינפוט וטנסור אאוטפוט)\n",
    "2. כמה נויורונים יהיו בכל שכבה\n",
    "3. כתיבת פייתון מתקדם - שימוש בקלאס ובבנאי מודל.\n",
    "4. פונקציית call שבונה עוד שכבות? \n",
    "5. להשתמש לא בsequantial רק מחלקות!\n",
    "6. גם הקומפייל ליצור אותו בתוך הקלאס\n",
    "7. גם האופטימייזר\n",
    "8. \n",
    "\n",
    "לבנות מחלקה ולבצע לה אימון\n",
    "לשמור משקולות ולהדגים במחברת טעינה מחדש."
   ]
  },
  {
   "cell_type": "markdown",
   "metadata": {},
   "source": [
    "# class SPINE"
   ]
  },
  {
   "cell_type": "code",
   "execution_count": 734,
   "metadata": {},
   "outputs": [],
   "source": [
    "class Spine(keras.Model):\n",
    "    \n",
    "    def __init__(self, input_shape,lr=0.001, type=\"adam\"):\n",
    "    \n",
    "        super(Spine, self).__init__()\n",
    "\n",
    "        self.d1 = layers.Dense((input_shape*3), activation = 'elu', input_shape = [input_shape])\n",
    "        self.d2 = layers.Dense((input_shape*2), activation = 'elu')\n",
    "        \n",
    "        self.d3 = layers.Dense(1, activation = 'sigmoid')\n",
    "        self.cmp(type,lr)\n",
    "        \n",
    "\n",
    "    def cmp(self,opt,lr):\n",
    "        if opt == 'adam':\n",
    "            \n",
    "            self.compile(optimizer = keras.optimizers.Adam(learning_rate=lr),\n",
    "             loss = tf.keras.losses.CategoricalCrossentropy(),\n",
    "             metrics = ['accuracy'])\n",
    "        elif opt == 'sgd':\n",
    "            self.compile(optimizer = keras.optimizers.SGD(lr = lr),\n",
    "             loss = tf.keras.losses.CategoricalCrossentropy(),\n",
    "             metrics = ['accuracy'])\n",
    "        elif opt == 'rmsprop':\n",
    "            self.compile(optimizer = keras.optimizers.RMSprop(lr = lr),\n",
    "             loss = tf.keras.losses.CategoricalCrossentropy(),\n",
    "             metrics = ['accuracy'])\n",
    "        else:\n",
    "            print(\"Adam is best optimizer, Dont be stopid choose Adam\")\n",
    "      \n",
    "\n",
    "    def fit_func(self, x_train, y_train, x_val, y_val, epochs, batch_size):\n",
    "        \n",
    "        history=self.fit(x_train, y_train, validation_data=(x_val, y_val), epochs=epochs, batch_size=batch_size)\n",
    "        return history\n",
    "\n",
    "    def call(self, data):#<--------------------------------------forwared\n",
    "        \n",
    "        x = self.d1(data)\n",
    "        x = self.d2(x)\n",
    "\n",
    "        x = self.d3(x)\n",
    "        \n",
    "        return x\n",
    "\n",
    "    def predict_func(self, x_test,y_test ):\n",
    "        score = self.evaluate(x_test, y_test)\n",
    "        score_df = pd.Series(score, index = self.metrics_names)\n",
    "\n",
    "        return score_df\n",
    "\n",
    " \n",
    "    def save_model_json(self, path):\n",
    "        # self.save_model_json(path)\n",
    "        model = tf.keras.Sequential([\n",
    "        self.d1,\n",
    "        self.d2,\n",
    "        self.d3 ])\n",
    "        js = model.to_json()\n",
    "        import pprint\n",
    "        pprint.pprint(js)\n",
    "        with open(path, 'w') as f:\n",
    "            f.write(js)\n",
    "            \n",
    "    def save_weights_model(self, path):\n",
    "        \n",
    "        model = tf.keras.Sequential([\n",
    "        self.d1,\n",
    "        self.d2,\n",
    "        self.d3 ])\n",
    "\n",
    "        model.save_weights(\"wwww\")\n",
    "    \n",
    "    \n",
    "        \n",
    "        \n",
    "    \n",
    "\n",
    "\n",
    "    # def graphs\n",
    "\n",
    "    # def early stoppin\n",
    "    # checkpoint\n",
    "    \n",
    "    \n",
    "\n",
    "    \n",
    "\n",
    "    \n",
    "\n",
    "\n",
    "    \n",
    "\n",
    "model = Spine(input_shape = x_train.shape[1])\n"
   ]
  },
  {
   "cell_type": "code",
   "execution_count": 735,
   "metadata": {},
   "outputs": [
    {
     "name": "stdout",
     "output_type": "stream",
     "text": [
      "Epoch 1/100\n",
      "7/7 [==============================] - 0s 14ms/step - loss: 0.0000e+00 - accuracy: 0.3991 - val_loss: 0.0000e+00 - val_accuracy: 0.4750\n",
      "Epoch 2/100\n",
      "7/7 [==============================] - 0s 2ms/step - loss: 0.0000e+00 - accuracy: 0.4978 - val_loss: 0.0000e+00 - val_accuracy: 0.5500\n",
      "Epoch 3/100\n",
      "7/7 [==============================] - 0s 2ms/step - loss: 0.0000e+00 - accuracy: 0.5919 - val_loss: 0.0000e+00 - val_accuracy: 0.6000\n",
      "Epoch 4/100\n",
      "7/7 [==============================] - 0s 2ms/step - loss: 0.0000e+00 - accuracy: 0.6861 - val_loss: 0.0000e+00 - val_accuracy: 0.6000\n",
      "Epoch 5/100\n",
      "7/7 [==============================] - 0s 2ms/step - loss: 0.0000e+00 - accuracy: 0.7040 - val_loss: 0.0000e+00 - val_accuracy: 0.6000\n",
      "Epoch 6/100\n",
      "7/7 [==============================] - 0s 2ms/step - loss: 0.0000e+00 - accuracy: 0.7354 - val_loss: 0.0000e+00 - val_accuracy: 0.6000\n",
      "Epoch 7/100\n",
      "7/7 [==============================] - 0s 2ms/step - loss: 0.0000e+00 - accuracy: 0.7758 - val_loss: 0.0000e+00 - val_accuracy: 0.5750\n",
      "Epoch 8/100\n",
      "7/7 [==============================] - 0s 2ms/step - loss: 0.0000e+00 - accuracy: 0.7803 - val_loss: 0.0000e+00 - val_accuracy: 0.6250\n",
      "Epoch 9/100\n",
      "7/7 [==============================] - 0s 2ms/step - loss: 0.0000e+00 - accuracy: 0.7803 - val_loss: 0.0000e+00 - val_accuracy: 0.6000\n",
      "Epoch 10/100\n",
      "7/7 [==============================] - 0s 2ms/step - loss: 0.0000e+00 - accuracy: 0.7803 - val_loss: 0.0000e+00 - val_accuracy: 0.5750\n",
      "Epoch 11/100\n",
      "7/7 [==============================] - 0s 2ms/step - loss: 0.0000e+00 - accuracy: 0.7892 - val_loss: 0.0000e+00 - val_accuracy: 0.6250\n",
      "Epoch 12/100\n",
      "7/7 [==============================] - 0s 2ms/step - loss: 0.0000e+00 - accuracy: 0.7848 - val_loss: 0.0000e+00 - val_accuracy: 0.6500\n",
      "Epoch 13/100\n",
      "7/7 [==============================] - 0s 2ms/step - loss: 0.0000e+00 - accuracy: 0.7803 - val_loss: 0.0000e+00 - val_accuracy: 0.6500\n",
      "Epoch 14/100\n",
      "7/7 [==============================] - 0s 2ms/step - loss: 0.0000e+00 - accuracy: 0.7937 - val_loss: 0.0000e+00 - val_accuracy: 0.6750\n",
      "Epoch 15/100\n",
      "7/7 [==============================] - 0s 2ms/step - loss: 0.0000e+00 - accuracy: 0.7937 - val_loss: 0.0000e+00 - val_accuracy: 0.6750\n",
      "Epoch 16/100\n",
      "7/7 [==============================] - 0s 2ms/step - loss: 0.0000e+00 - accuracy: 0.7937 - val_loss: 0.0000e+00 - val_accuracy: 0.6750\n",
      "Epoch 17/100\n",
      "7/7 [==============================] - 0s 2ms/step - loss: 0.0000e+00 - accuracy: 0.7937 - val_loss: 0.0000e+00 - val_accuracy: 0.6750\n",
      "Epoch 18/100\n",
      "7/7 [==============================] - 0s 2ms/step - loss: 0.0000e+00 - accuracy: 0.7848 - val_loss: 0.0000e+00 - val_accuracy: 0.6750\n",
      "Epoch 19/100\n",
      "7/7 [==============================] - 0s 2ms/step - loss: 0.0000e+00 - accuracy: 0.7848 - val_loss: 0.0000e+00 - val_accuracy: 0.6750\n",
      "Epoch 20/100\n",
      "7/7 [==============================] - 0s 2ms/step - loss: 0.0000e+00 - accuracy: 0.7848 - val_loss: 0.0000e+00 - val_accuracy: 0.6750\n",
      "Epoch 21/100\n",
      "7/7 [==============================] - 0s 2ms/step - loss: 0.0000e+00 - accuracy: 0.7803 - val_loss: 0.0000e+00 - val_accuracy: 0.6750\n",
      "Epoch 22/100\n",
      "7/7 [==============================] - 0s 2ms/step - loss: 0.0000e+00 - accuracy: 0.7848 - val_loss: 0.0000e+00 - val_accuracy: 0.6500\n",
      "Epoch 23/100\n",
      "7/7 [==============================] - 0s 2ms/step - loss: 0.0000e+00 - accuracy: 0.7848 - val_loss: 0.0000e+00 - val_accuracy: 0.6500\n",
      "Epoch 24/100\n",
      "7/7 [==============================] - 0s 2ms/step - loss: 0.0000e+00 - accuracy: 0.7848 - val_loss: 0.0000e+00 - val_accuracy: 0.6500\n",
      "Epoch 25/100\n",
      "7/7 [==============================] - 0s 2ms/step - loss: 0.0000e+00 - accuracy: 0.7848 - val_loss: 0.0000e+00 - val_accuracy: 0.6500\n",
      "Epoch 26/100\n",
      "7/7 [==============================] - 0s 2ms/step - loss: 0.0000e+00 - accuracy: 0.7892 - val_loss: 0.0000e+00 - val_accuracy: 0.6500\n",
      "Epoch 27/100\n",
      "7/7 [==============================] - 0s 2ms/step - loss: 0.0000e+00 - accuracy: 0.7848 - val_loss: 0.0000e+00 - val_accuracy: 0.6500\n",
      "Epoch 28/100\n",
      "7/7 [==============================] - 0s 2ms/step - loss: 0.0000e+00 - accuracy: 0.7937 - val_loss: 0.0000e+00 - val_accuracy: 0.6500\n",
      "Epoch 29/100\n",
      "7/7 [==============================] - 0s 2ms/step - loss: 0.0000e+00 - accuracy: 0.7937 - val_loss: 0.0000e+00 - val_accuracy: 0.6500\n",
      "Epoch 30/100\n",
      "7/7 [==============================] - 0s 2ms/step - loss: 0.0000e+00 - accuracy: 0.7982 - val_loss: 0.0000e+00 - val_accuracy: 0.6500\n",
      "Epoch 31/100\n",
      "7/7 [==============================] - 0s 2ms/step - loss: 0.0000e+00 - accuracy: 0.7982 - val_loss: 0.0000e+00 - val_accuracy: 0.6250\n",
      "Epoch 32/100\n",
      "7/7 [==============================] - 0s 2ms/step - loss: 0.0000e+00 - accuracy: 0.8027 - val_loss: 0.0000e+00 - val_accuracy: 0.6250\n",
      "Epoch 33/100\n",
      "7/7 [==============================] - 0s 2ms/step - loss: 0.0000e+00 - accuracy: 0.8027 - val_loss: 0.0000e+00 - val_accuracy: 0.6250\n",
      "Epoch 34/100\n",
      "7/7 [==============================] - 0s 2ms/step - loss: 0.0000e+00 - accuracy: 0.8027 - val_loss: 0.0000e+00 - val_accuracy: 0.6250\n",
      "Epoch 35/100\n",
      "7/7 [==============================] - 0s 2ms/step - loss: 0.0000e+00 - accuracy: 0.8117 - val_loss: 0.0000e+00 - val_accuracy: 0.6250\n",
      "Epoch 36/100\n",
      "7/7 [==============================] - 0s 2ms/step - loss: 0.0000e+00 - accuracy: 0.8117 - val_loss: 0.0000e+00 - val_accuracy: 0.6500\n",
      "Epoch 37/100\n",
      "7/7 [==============================] - 0s 2ms/step - loss: 0.0000e+00 - accuracy: 0.8027 - val_loss: 0.0000e+00 - val_accuracy: 0.6750\n",
      "Epoch 38/100\n",
      "7/7 [==============================] - 0s 2ms/step - loss: 0.0000e+00 - accuracy: 0.8027 - val_loss: 0.0000e+00 - val_accuracy: 0.6500\n",
      "Epoch 39/100\n",
      "7/7 [==============================] - 0s 2ms/step - loss: 0.0000e+00 - accuracy: 0.8027 - val_loss: 0.0000e+00 - val_accuracy: 0.6500\n",
      "Epoch 40/100\n",
      "7/7 [==============================] - 0s 2ms/step - loss: 0.0000e+00 - accuracy: 0.7982 - val_loss: 0.0000e+00 - val_accuracy: 0.6500\n",
      "Epoch 41/100\n",
      "7/7 [==============================] - 0s 2ms/step - loss: 0.0000e+00 - accuracy: 0.7892 - val_loss: 0.0000e+00 - val_accuracy: 0.6750\n",
      "Epoch 42/100\n",
      "7/7 [==============================] - 0s 2ms/step - loss: 0.0000e+00 - accuracy: 0.7848 - val_loss: 0.0000e+00 - val_accuracy: 0.6750\n",
      "Epoch 43/100\n",
      "7/7 [==============================] - 0s 2ms/step - loss: 0.0000e+00 - accuracy: 0.7848 - val_loss: 0.0000e+00 - val_accuracy: 0.6750\n",
      "Epoch 44/100\n",
      "7/7 [==============================] - 0s 2ms/step - loss: 0.0000e+00 - accuracy: 0.7848 - val_loss: 0.0000e+00 - val_accuracy: 0.6500\n",
      "Epoch 45/100\n",
      "7/7 [==============================] - 0s 2ms/step - loss: 0.0000e+00 - accuracy: 0.7848 - val_loss: 0.0000e+00 - val_accuracy: 0.6500\n",
      "Epoch 46/100\n",
      "7/7 [==============================] - 0s 2ms/step - loss: 0.0000e+00 - accuracy: 0.7892 - val_loss: 0.0000e+00 - val_accuracy: 0.6750\n",
      "Epoch 47/100\n",
      "7/7 [==============================] - 0s 2ms/step - loss: 0.0000e+00 - accuracy: 0.7982 - val_loss: 0.0000e+00 - val_accuracy: 0.6750\n",
      "Epoch 48/100\n",
      "7/7 [==============================] - 0s 2ms/step - loss: 0.0000e+00 - accuracy: 0.7982 - val_loss: 0.0000e+00 - val_accuracy: 0.6750\n",
      "Epoch 49/100\n",
      "7/7 [==============================] - 0s 2ms/step - loss: 0.0000e+00 - accuracy: 0.7982 - val_loss: 0.0000e+00 - val_accuracy: 0.6750\n",
      "Epoch 50/100\n",
      "7/7 [==============================] - 0s 2ms/step - loss: 0.0000e+00 - accuracy: 0.7982 - val_loss: 0.0000e+00 - val_accuracy: 0.6750\n",
      "Epoch 51/100\n",
      "7/7 [==============================] - 0s 2ms/step - loss: 0.0000e+00 - accuracy: 0.7937 - val_loss: 0.0000e+00 - val_accuracy: 0.6750\n",
      "Epoch 52/100\n",
      "7/7 [==============================] - 0s 2ms/step - loss: 0.0000e+00 - accuracy: 0.7937 - val_loss: 0.0000e+00 - val_accuracy: 0.6750\n",
      "Epoch 53/100\n",
      "7/7 [==============================] - 0s 2ms/step - loss: 0.0000e+00 - accuracy: 0.7937 - val_loss: 0.0000e+00 - val_accuracy: 0.6750\n",
      "Epoch 54/100\n",
      "7/7 [==============================] - 0s 2ms/step - loss: 0.0000e+00 - accuracy: 0.7848 - val_loss: 0.0000e+00 - val_accuracy: 0.6750\n",
      "Epoch 55/100\n",
      "7/7 [==============================] - 0s 2ms/step - loss: 0.0000e+00 - accuracy: 0.7758 - val_loss: 0.0000e+00 - val_accuracy: 0.6750\n",
      "Epoch 56/100\n",
      "7/7 [==============================] - 0s 2ms/step - loss: 0.0000e+00 - accuracy: 0.7758 - val_loss: 0.0000e+00 - val_accuracy: 0.6750\n",
      "Epoch 57/100\n",
      "7/7 [==============================] - 0s 2ms/step - loss: 0.0000e+00 - accuracy: 0.7758 - val_loss: 0.0000e+00 - val_accuracy: 0.6750\n",
      "Epoch 58/100\n",
      "7/7 [==============================] - 0s 2ms/step - loss: 0.0000e+00 - accuracy: 0.7758 - val_loss: 0.0000e+00 - val_accuracy: 0.6750\n",
      "Epoch 59/100\n",
      "7/7 [==============================] - 0s 2ms/step - loss: 0.0000e+00 - accuracy: 0.7668 - val_loss: 0.0000e+00 - val_accuracy: 0.6750\n",
      "Epoch 60/100\n",
      "7/7 [==============================] - 0s 2ms/step - loss: 0.0000e+00 - accuracy: 0.7668 - val_loss: 0.0000e+00 - val_accuracy: 0.6750\n",
      "Epoch 61/100\n",
      "7/7 [==============================] - 0s 2ms/step - loss: 0.0000e+00 - accuracy: 0.7713 - val_loss: 0.0000e+00 - val_accuracy: 0.6750\n",
      "Epoch 62/100\n",
      "7/7 [==============================] - 0s 2ms/step - loss: 0.0000e+00 - accuracy: 0.7668 - val_loss: 0.0000e+00 - val_accuracy: 0.6750\n",
      "Epoch 63/100\n",
      "7/7 [==============================] - 0s 2ms/step - loss: 0.0000e+00 - accuracy: 0.7623 - val_loss: 0.0000e+00 - val_accuracy: 0.6750\n",
      "Epoch 64/100\n",
      "7/7 [==============================] - 0s 2ms/step - loss: 0.0000e+00 - accuracy: 0.7623 - val_loss: 0.0000e+00 - val_accuracy: 0.6750\n",
      "Epoch 65/100\n",
      "7/7 [==============================] - 0s 2ms/step - loss: 0.0000e+00 - accuracy: 0.7623 - val_loss: 0.0000e+00 - val_accuracy: 0.6750\n",
      "Epoch 66/100\n",
      "7/7 [==============================] - 0s 2ms/step - loss: 0.0000e+00 - accuracy: 0.7623 - val_loss: 0.0000e+00 - val_accuracy: 0.6750\n",
      "Epoch 67/100\n",
      "7/7 [==============================] - 0s 2ms/step - loss: 0.0000e+00 - accuracy: 0.7623 - val_loss: 0.0000e+00 - val_accuracy: 0.6750\n",
      "Epoch 68/100\n",
      "7/7 [==============================] - 0s 2ms/step - loss: 0.0000e+00 - accuracy: 0.7578 - val_loss: 0.0000e+00 - val_accuracy: 0.6750\n",
      "Epoch 69/100\n",
      "7/7 [==============================] - 0s 2ms/step - loss: 0.0000e+00 - accuracy: 0.7578 - val_loss: 0.0000e+00 - val_accuracy: 0.6750\n",
      "Epoch 70/100\n",
      "7/7 [==============================] - 0s 2ms/step - loss: 0.0000e+00 - accuracy: 0.7578 - val_loss: 0.0000e+00 - val_accuracy: 0.6750\n",
      "Epoch 71/100\n",
      "7/7 [==============================] - 0s 2ms/step - loss: 0.0000e+00 - accuracy: 0.7578 - val_loss: 0.0000e+00 - val_accuracy: 0.6750\n",
      "Epoch 72/100\n",
      "7/7 [==============================] - 0s 2ms/step - loss: 0.0000e+00 - accuracy: 0.7578 - val_loss: 0.0000e+00 - val_accuracy: 0.6750\n",
      "Epoch 73/100\n",
      "7/7 [==============================] - 0s 2ms/step - loss: 0.0000e+00 - accuracy: 0.7578 - val_loss: 0.0000e+00 - val_accuracy: 0.6750\n",
      "Epoch 74/100\n",
      "7/7 [==============================] - 0s 2ms/step - loss: 0.0000e+00 - accuracy: 0.7578 - val_loss: 0.0000e+00 - val_accuracy: 0.6750\n",
      "Epoch 75/100\n",
      "7/7 [==============================] - 0s 2ms/step - loss: 0.0000e+00 - accuracy: 0.7578 - val_loss: 0.0000e+00 - val_accuracy: 0.6750\n",
      "Epoch 76/100\n",
      "7/7 [==============================] - 0s 2ms/step - loss: 0.0000e+00 - accuracy: 0.7578 - val_loss: 0.0000e+00 - val_accuracy: 0.6750\n",
      "Epoch 77/100\n",
      "7/7 [==============================] - 0s 2ms/step - loss: 0.0000e+00 - accuracy: 0.7578 - val_loss: 0.0000e+00 - val_accuracy: 0.6750\n",
      "Epoch 78/100\n",
      "7/7 [==============================] - 0s 2ms/step - loss: 0.0000e+00 - accuracy: 0.7578 - val_loss: 0.0000e+00 - val_accuracy: 0.6750\n",
      "Epoch 79/100\n",
      "7/7 [==============================] - 0s 2ms/step - loss: 0.0000e+00 - accuracy: 0.7578 - val_loss: 0.0000e+00 - val_accuracy: 0.6750\n",
      "Epoch 80/100\n",
      "7/7 [==============================] - 0s 2ms/step - loss: 0.0000e+00 - accuracy: 0.7578 - val_loss: 0.0000e+00 - val_accuracy: 0.6750\n",
      "Epoch 81/100\n",
      "7/7 [==============================] - 0s 2ms/step - loss: 0.0000e+00 - accuracy: 0.7578 - val_loss: 0.0000e+00 - val_accuracy: 0.6750\n",
      "Epoch 82/100\n",
      "7/7 [==============================] - 0s 2ms/step - loss: 0.0000e+00 - accuracy: 0.7578 - val_loss: 0.0000e+00 - val_accuracy: 0.6750\n",
      "Epoch 83/100\n",
      "7/7 [==============================] - 0s 2ms/step - loss: 0.0000e+00 - accuracy: 0.7578 - val_loss: 0.0000e+00 - val_accuracy: 0.6750\n",
      "Epoch 84/100\n",
      "7/7 [==============================] - 0s 2ms/step - loss: 0.0000e+00 - accuracy: 0.7578 - val_loss: 0.0000e+00 - val_accuracy: 0.6750\n",
      "Epoch 85/100\n",
      "7/7 [==============================] - 0s 2ms/step - loss: 0.0000e+00 - accuracy: 0.7578 - val_loss: 0.0000e+00 - val_accuracy: 0.6750\n",
      "Epoch 86/100\n",
      "7/7 [==============================] - 0s 2ms/step - loss: 0.0000e+00 - accuracy: 0.7578 - val_loss: 0.0000e+00 - val_accuracy: 0.6750\n",
      "Epoch 87/100\n",
      "7/7 [==============================] - 0s 2ms/step - loss: 0.0000e+00 - accuracy: 0.7578 - val_loss: 0.0000e+00 - val_accuracy: 0.6750\n",
      "Epoch 88/100\n",
      "7/7 [==============================] - 0s 2ms/step - loss: 0.0000e+00 - accuracy: 0.7578 - val_loss: 0.0000e+00 - val_accuracy: 0.6750\n",
      "Epoch 89/100\n",
      "7/7 [==============================] - 0s 2ms/step - loss: 0.0000e+00 - accuracy: 0.7578 - val_loss: 0.0000e+00 - val_accuracy: 0.6750\n",
      "Epoch 90/100\n",
      "7/7 [==============================] - 0s 2ms/step - loss: 0.0000e+00 - accuracy: 0.7578 - val_loss: 0.0000e+00 - val_accuracy: 0.6750\n",
      "Epoch 91/100\n",
      "7/7 [==============================] - 0s 2ms/step - loss: 0.0000e+00 - accuracy: 0.7578 - val_loss: 0.0000e+00 - val_accuracy: 0.6750\n",
      "Epoch 92/100\n",
      "7/7 [==============================] - 0s 2ms/step - loss: 0.0000e+00 - accuracy: 0.7578 - val_loss: 0.0000e+00 - val_accuracy: 0.6750\n",
      "Epoch 93/100\n",
      "7/7 [==============================] - 0s 2ms/step - loss: 0.0000e+00 - accuracy: 0.7578 - val_loss: 0.0000e+00 - val_accuracy: 0.6750\n",
      "Epoch 94/100\n",
      "7/7 [==============================] - 0s 2ms/step - loss: 0.0000e+00 - accuracy: 0.7578 - val_loss: 0.0000e+00 - val_accuracy: 0.6750\n",
      "Epoch 95/100\n",
      "7/7 [==============================] - 0s 2ms/step - loss: 0.0000e+00 - accuracy: 0.7578 - val_loss: 0.0000e+00 - val_accuracy: 0.6750\n",
      "Epoch 96/100\n",
      "7/7 [==============================] - 0s 2ms/step - loss: 0.0000e+00 - accuracy: 0.7534 - val_loss: 0.0000e+00 - val_accuracy: 0.6750\n",
      "Epoch 97/100\n",
      "7/7 [==============================] - 0s 2ms/step - loss: 0.0000e+00 - accuracy: 0.7534 - val_loss: 0.0000e+00 - val_accuracy: 0.6750\n",
      "Epoch 98/100\n",
      "7/7 [==============================] - 0s 2ms/step - loss: 0.0000e+00 - accuracy: 0.7534 - val_loss: 0.0000e+00 - val_accuracy: 0.6750\n",
      "Epoch 99/100\n",
      "7/7 [==============================] - 0s 2ms/step - loss: 0.0000e+00 - accuracy: 0.7534 - val_loss: 0.0000e+00 - val_accuracy: 0.6750\n",
      "Epoch 100/100\n",
      "7/7 [==============================] - 0s 2ms/step - loss: 0.0000e+00 - accuracy: 0.7534 - val_loss: 0.0000e+00 - val_accuracy: 0.6750\n"
     ]
    },
    {
     "data": {
      "text/plain": [
       "<keras.callbacks.History at 0x2c2b054e0>"
      ]
     },
     "execution_count": 735,
     "metadata": {},
     "output_type": "execute_result"
    }
   ],
   "source": [
    "model.fit_func(x_train, y_train, x_val, y_val, epochs=100, batch_size=32)"
   ]
  },
  {
   "cell_type": "code",
   "execution_count": 736,
   "metadata": {},
   "outputs": [
    {
     "name": "stdout",
     "output_type": "stream",
     "text": [
      "2/2 [==============================] - 0s 971us/step - loss: 0.0000e+00 - accuracy: 0.7021\n"
     ]
    },
    {
     "data": {
      "text/plain": [
       "loss        0.000000\n",
       "accuracy    0.702128\n",
       "dtype: float64"
      ]
     },
     "execution_count": 736,
     "metadata": {},
     "output_type": "execute_result"
    }
   ],
   "source": [
    "model.predict_func(x_test, y_test)"
   ]
  },
  {
   "cell_type": "code",
   "execution_count": 737,
   "metadata": {},
   "outputs": [
    {
     "name": "stdout",
     "output_type": "stream",
     "text": [
      "('{\"class_name\": \"Sequential\", \"config\": {\"name\": \"sequential_22\", \"layers\": '\n",
      " '[{\"class_name\": \"InputLayer\", \"config\": {\"batch_input_shape\": [null, 12], '\n",
      " '\"dtype\": \"float32\", \"sparse\": false, \"ragged\": false, \"name\": '\n",
      " '\"dense_93_input\"}}, {\"class_name\": \"Dense\", \"config\": {\"name\": \"dense_93\", '\n",
      " '\"trainable\": true, \"batch_input_shape\": [null, 12], \"dtype\": \"float32\", '\n",
      " '\"units\": 36, \"activation\": \"elu\", \"use_bias\": true, \"kernel_initializer\": '\n",
      " '{\"class_name\": \"GlorotUniform\", \"config\": {\"seed\": null}}, '\n",
      " '\"bias_initializer\": {\"class_name\": \"Zeros\", \"config\": {}}, '\n",
      " '\"kernel_regularizer\": null, \"bias_regularizer\": null, '\n",
      " '\"activity_regularizer\": null, \"kernel_constraint\": null, \"bias_constraint\": '\n",
      " 'null}}, {\"class_name\": \"Dense\", \"config\": {\"name\": \"dense_94\", \"trainable\": '\n",
      " 'true, \"dtype\": \"float32\", \"units\": 24, \"activation\": \"elu\", \"use_bias\": '\n",
      " 'true, \"kernel_initializer\": {\"class_name\": \"GlorotUniform\", \"config\": '\n",
      " '{\"seed\": null}}, \"bias_initializer\": {\"class_name\": \"Zeros\", \"config\": {}}, '\n",
      " '\"kernel_regularizer\": null, \"bias_regularizer\": null, '\n",
      " '\"activity_regularizer\": null, \"kernel_constraint\": null, \"bias_constraint\": '\n",
      " 'null}}, {\"class_name\": \"Dense\", \"config\": {\"name\": \"dense_95\", \"trainable\": '\n",
      " 'true, \"dtype\": \"float32\", \"units\": 1, \"activation\": \"sigmoid\", \"use_bias\": '\n",
      " 'true, \"kernel_initializer\": {\"class_name\": \"GlorotUniform\", \"config\": '\n",
      " '{\"seed\": null}}, \"bias_initializer\": {\"class_name\": \"Zeros\", \"config\": {}}, '\n",
      " '\"kernel_regularizer\": null, \"bias_regularizer\": null, '\n",
      " '\"activity_regularizer\": null, \"kernel_constraint\": null, \"bias_constraint\": '\n",
      " 'null}}]}, \"keras_version\": \"2.9.0\", \"backend\": \"tensorflow\"}')\n"
     ]
    }
   ],
   "source": [
    "# save model to json\n",
    "model.save_model_json(\"model.json\")\n",
    "model.save_weights_model(\"weighs\")\n"
   ]
  },
  {
   "cell_type": "markdown",
   "metadata": {},
   "source": [
    "# load model:"
   ]
  },
  {
   "cell_type": "code",
   "execution_count": 738,
   "metadata": {},
   "outputs": [],
   "source": [
    "#load model\n",
    "import json\n",
    "with open('model.json', 'r') as infile: \n",
    "    \n",
    "    model_json = json.load(infile)\n",
    "\n"
   ]
  },
  {
   "cell_type": "code",
   "execution_count": 739,
   "metadata": {},
   "outputs": [
    {
     "name": "stdout",
     "output_type": "stream",
     "text": [
      "{'backend': 'tensorflow',\n",
      " 'class_name': 'Sequential',\n",
      " 'config': {'layers': [{'class_name': 'InputLayer',\n",
      "                        'config': {'batch_input_shape': [None, 12],\n",
      "                                   'dtype': 'float32',\n",
      "                                   'name': 'dense_93_input',\n",
      "                                   'ragged': False,\n",
      "                                   'sparse': False}},\n",
      "                       {'class_name': 'Dense',\n",
      "                        'config': {'activation': 'elu',\n",
      "                                   'activity_regularizer': None,\n",
      "                                   'batch_input_shape': [None, 12],\n",
      "                                   'bias_constraint': None,\n",
      "                                   'bias_initializer': {'class_name': 'Zeros',\n",
      "                                                        'config': {}},\n",
      "                                   'bias_regularizer': None,\n",
      "                                   'dtype': 'float32',\n",
      "                                   'kernel_constraint': None,\n",
      "                                   'kernel_initializer': {'class_name': 'GlorotUniform',\n",
      "                                                          'config': {'seed': None}},\n",
      "                                   'kernel_regularizer': None,\n",
      "                                   'name': 'dense_93',\n",
      "                                   'trainable': True,\n",
      "                                   'units': 36,\n",
      "                                   'use_bias': True}},\n",
      "                       {'class_name': 'Dense',\n",
      "                        'config': {'activation': 'elu',\n",
      "                                   'activity_regularizer': None,\n",
      "                                   'bias_constraint': None,\n",
      "                                   'bias_initializer': {'class_name': 'Zeros',\n",
      "                                                        'config': {}},\n",
      "                                   'bias_regularizer': None,\n",
      "                                   'dtype': 'float32',\n",
      "                                   'kernel_constraint': None,\n",
      "                                   'kernel_initializer': {'class_name': 'GlorotUniform',\n",
      "                                                          'config': {'seed': None}},\n",
      "                                   'kernel_regularizer': None,\n",
      "                                   'name': 'dense_94',\n",
      "                                   'trainable': True,\n",
      "                                   'units': 24,\n",
      "                                   'use_bias': True}},\n",
      "                       {'class_name': 'Dense',\n",
      "                        'config': {'activation': 'sigmoid',\n",
      "                                   'activity_regularizer': None,\n",
      "                                   'bias_constraint': None,\n",
      "                                   'bias_initializer': {'class_name': 'Zeros',\n",
      "                                                        'config': {}},\n",
      "                                   'bias_regularizer': None,\n",
      "                                   'dtype': 'float32',\n",
      "                                   'kernel_constraint': None,\n",
      "                                   'kernel_initializer': {'class_name': 'GlorotUniform',\n",
      "                                                          'config': {'seed': None}},\n",
      "                                   'kernel_regularizer': None,\n",
      "                                   'name': 'dense_95',\n",
      "                                   'trainable': True,\n",
      "                                   'units': 1,\n",
      "                                   'use_bias': True}}],\n",
      "            'name': 'sequential_22'},\n",
      " 'keras_version': '2.9.0'}\n"
     ]
    }
   ],
   "source": [
    "pprint.pprint(model_json)"
   ]
  },
  {
   "cell_type": "code",
   "execution_count": 740,
   "metadata": {},
   "outputs": [
    {
     "name": "stdout",
     "output_type": "stream",
     "text": [
      "Model: \"sequential_22\"\n",
      "_________________________________________________________________\n",
      " Layer (type)                Output Shape              Param #   \n",
      "=================================================================\n",
      " dense_93 (Dense)            (None, 36)                468       \n",
      "                                                                 \n",
      " dense_94 (Dense)            (None, 24)                888       \n",
      "                                                                 \n",
      " dense_95 (Dense)            (None, 1)                 25        \n",
      "                                                                 \n",
      "=================================================================\n",
      "Total params: 1,381\n",
      "Trainable params: 1,381\n",
      "Non-trainable params: 0\n",
      "_________________________________________________________________\n"
     ]
    }
   ],
   "source": [
    "model = tf.keras.models.model_from_json(json.dumps(model_json))\n",
    "\n",
    "model.summary()"
   ]
  },
  {
   "cell_type": "markdown",
   "metadata": {},
   "source": [
    "# without weights"
   ]
  },
  {
   "cell_type": "code",
   "execution_count": 741,
   "metadata": {},
   "outputs": [
    {
     "name": "stdout",
     "output_type": "stream",
     "text": [
      "2/2 [==============================] - 0s 991us/step\n"
     ]
    },
    {
     "data": {
      "text/plain": [
       "-0.30865318013246545"
      ]
     },
     "execution_count": 741,
     "metadata": {},
     "output_type": "execute_result"
    }
   ],
   "source": [
    "y_pred_after_loading = model.predict(x_test)\n",
    "# r2 score import\n",
    "from sklearn.metrics import r2_score\n",
    "\n",
    "r2_score( y_test,y_pred_after_loading)"
   ]
  },
  {
   "cell_type": "markdown",
   "metadata": {},
   "source": [
    "# adding weights"
   ]
  },
  {
   "cell_type": "code",
   "execution_count": 742,
   "metadata": {},
   "outputs": [
    {
     "data": {
      "text/plain": [
       "<tensorflow.python.training.tracking.util.CheckpointLoadStatus at 0x29dc405b0>"
      ]
     },
     "execution_count": 742,
     "metadata": {},
     "output_type": "execute_result"
    }
   ],
   "source": [
    "# load weights into new model\n",
    "model.load_weights(\"wwww\")\n"
   ]
  },
  {
   "cell_type": "code",
   "execution_count": 743,
   "metadata": {},
   "outputs": [
    {
     "name": "stdout",
     "output_type": "stream",
     "text": [
      "2/2 [==============================] - 0s 1ms/step\n"
     ]
    },
    {
     "data": {
      "text/plain": [
       "-0.2998264302902771"
      ]
     },
     "execution_count": 743,
     "metadata": {},
     "output_type": "execute_result"
    }
   ],
   "source": [
    "y_pred_after_loading = model.predict(x_test)\n",
    "# r2 score import\n",
    "from sklearn.metrics import r2_score\n",
    "\n",
    "r2_score( y_test,y_pred_after_loading)"
   ]
  }
 ],
 "metadata": {
  "kernelspec": {
   "display_name": "Python 3.10.4 64-bit",
   "language": "python",
   "name": "python3"
  },
  "language_info": {
   "codemirror_mode": {
    "name": "ipython",
    "version": 3
   },
   "file_extension": ".py",
   "mimetype": "text/x-python",
   "name": "python",
   "nbconvert_exporter": "python",
   "pygments_lexer": "ipython3",
   "version": "3.10.4"
  },
  "vscode": {
   "interpreter": {
    "hash": "aee8b7b246df8f9039afb4144a1f6fd8d2ca17a180786b69acc140d282b71a49"
   }
  }
 },
 "nbformat": 4,
 "nbformat_minor": 2
}
