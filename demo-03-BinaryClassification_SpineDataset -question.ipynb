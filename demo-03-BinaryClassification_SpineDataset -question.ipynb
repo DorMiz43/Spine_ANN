{
 "cells": [
  {
   "cell_type": "markdown",
   "metadata": {},
   "source": [
    "### Importing libraraies"
   ]
  },
  {
   "cell_type": "code",
   "execution_count": 336,
   "metadata": {},
   "outputs": [],
   "source": [
    "# import os\n",
    "# import datetime\n",
    "\n",
    "# import pandas as pd\n",
    "# import numpy as np\n",
    "\n",
    "# import matplotlib.pyplot as plt\n",
    "# import seaborn as sns\n",
    "\n",
    "# from sklearn.preprocessing import StandardScaler\n",
    "# from sklearn.metrics import accuracy_score, precision_score, recall_score\n",
    "\n",
    "# import tensorflow as tf\n",
    "\n",
    "# from tensorflow import keras\n",
    "# from tensorflow.keras import layers\n",
    "\n",
    "# tf.keras.backend.clear_session()"
   ]
  },
  {
   "cell_type": "code",
   "execution_count": 337,
   "metadata": {},
   "outputs": [],
   "source": [
    "import pandas as pd\n",
    "import numpy as np\n",
    "\n",
    "import seaborn as sns\n",
    "import matplotlib.pyplot as plt   \n",
    "\n",
    "from sklearn import datasets\n",
    "from sklearn.model_selection import train_test_split\n",
    "from sklearn.preprocessing import StandardScaler\n",
    "from sklearn.metrics import accuracy_score\n",
    "\n",
    "\n",
    "import tensorflow as tf\n",
    "\n",
    "from tensorflow import keras\n",
    "from keras import layers\n",
    "from keras import Model\n",
    "from keras.utils import to_categorical"
   ]
  },
  {
   "cell_type": "markdown",
   "metadata": {},
   "source": [
    "### Loading Dataset\n",
    "\n",
    "#### Lower Back Pain Symptoms Dataset\n",
    "\n",
    "Source: https://www.kaggle.com/sammy123/lower-back-pain-symptoms-dataset"
   ]
  },
  {
   "cell_type": "code",
   "execution_count": 338,
   "metadata": {},
   "outputs": [],
   "source": [
    "spine_data = pd.read_csv('Dataset_spine.csv', \n",
    "                         skiprows=1,\n",
    "                         names=['pelvic_incidence',\n",
    "                                'pelvic tilt',\n",
    "                                'lumbar_lordosis_angle',\n",
    "                                'sacral_slope',\n",
    "                                'pelvic_radius',\n",
    "                                'degree_spondylolisthesis',\n",
    "                                'pelvic_slope',\n",
    "                                'direct_tilt',\n",
    "                                'thoracic_slope',\n",
    "                                'cervical_tilt',\n",
    "                                'sacrum_angle',\n",
    "                                'scoliosis_slope',\n",
    "                                'class_att'])\n",
    "\n",
    "spine_data = spine_data.sample(frac=1).reset_index(drop=True)"
   ]
  },
  {
   "cell_type": "code",
   "execution_count": 339,
   "metadata": {},
   "outputs": [
    {
     "data": {
      "text/html": [
       "<div>\n",
       "<style scoped>\n",
       "    .dataframe tbody tr th:only-of-type {\n",
       "        vertical-align: middle;\n",
       "    }\n",
       "\n",
       "    .dataframe tbody tr th {\n",
       "        vertical-align: top;\n",
       "    }\n",
       "\n",
       "    .dataframe thead th {\n",
       "        text-align: right;\n",
       "    }\n",
       "</style>\n",
       "<table border=\"1\" class=\"dataframe\">\n",
       "  <thead>\n",
       "    <tr style=\"text-align: right;\">\n",
       "      <th></th>\n",
       "      <th>pelvic_incidence</th>\n",
       "      <th>pelvic tilt</th>\n",
       "      <th>lumbar_lordosis_angle</th>\n",
       "      <th>sacral_slope</th>\n",
       "      <th>pelvic_radius</th>\n",
       "      <th>degree_spondylolisthesis</th>\n",
       "      <th>pelvic_slope</th>\n",
       "      <th>direct_tilt</th>\n",
       "      <th>thoracic_slope</th>\n",
       "      <th>cervical_tilt</th>\n",
       "      <th>sacrum_angle</th>\n",
       "      <th>scoliosis_slope</th>\n",
       "      <th>class_att</th>\n",
       "    </tr>\n",
       "  </thead>\n",
       "  <tbody>\n",
       "    <tr>\n",
       "      <th>0</th>\n",
       "      <td>36.157830</td>\n",
       "      <td>-0.810514</td>\n",
       "      <td>33.627314</td>\n",
       "      <td>36.968344</td>\n",
       "      <td>135.936910</td>\n",
       "      <td>-2.092507</td>\n",
       "      <td>0.332027</td>\n",
       "      <td>10.4752</td>\n",
       "      <td>17.1414</td>\n",
       "      <td>13.60366</td>\n",
       "      <td>-12.162522</td>\n",
       "      <td>28.3449</td>\n",
       "      <td>Normal</td>\n",
       "    </tr>\n",
       "    <tr>\n",
       "      <th>1</th>\n",
       "      <td>67.289712</td>\n",
       "      <td>16.717514</td>\n",
       "      <td>51.000000</td>\n",
       "      <td>50.572198</td>\n",
       "      <td>137.591778</td>\n",
       "      <td>4.960344</td>\n",
       "      <td>0.233195</td>\n",
       "      <td>23.3207</td>\n",
       "      <td>13.7148</td>\n",
       "      <td>10.46265</td>\n",
       "      <td>-9.187554</td>\n",
       "      <td>27.8587</td>\n",
       "      <td>Normal</td>\n",
       "    </tr>\n",
       "    <tr>\n",
       "      <th>2</th>\n",
       "      <td>74.854480</td>\n",
       "      <td>13.909084</td>\n",
       "      <td>62.693259</td>\n",
       "      <td>60.945396</td>\n",
       "      <td>115.208701</td>\n",
       "      <td>33.172255</td>\n",
       "      <td>0.821915</td>\n",
       "      <td>20.4667</td>\n",
       "      <td>9.3510</td>\n",
       "      <td>14.37763</td>\n",
       "      <td>4.230442</td>\n",
       "      <td>39.2266</td>\n",
       "      <td>Abnormal</td>\n",
       "    </tr>\n",
       "    <tr>\n",
       "      <th>3</th>\n",
       "      <td>71.001941</td>\n",
       "      <td>37.515772</td>\n",
       "      <td>84.537093</td>\n",
       "      <td>33.486169</td>\n",
       "      <td>125.164232</td>\n",
       "      <td>67.771190</td>\n",
       "      <td>0.602698</td>\n",
       "      <td>10.1025</td>\n",
       "      <td>14.5544</td>\n",
       "      <td>10.61123</td>\n",
       "      <td>-23.883075</td>\n",
       "      <td>38.7949</td>\n",
       "      <td>Abnormal</td>\n",
       "    </tr>\n",
       "    <tr>\n",
       "      <th>4</th>\n",
       "      <td>75.298478</td>\n",
       "      <td>16.671484</td>\n",
       "      <td>61.296204</td>\n",
       "      <td>58.626995</td>\n",
       "      <td>118.883388</td>\n",
       "      <td>31.575823</td>\n",
       "      <td>0.677506</td>\n",
       "      <td>10.1345</td>\n",
       "      <td>12.2607</td>\n",
       "      <td>11.22559</td>\n",
       "      <td>-12.196755</td>\n",
       "      <td>31.7385</td>\n",
       "      <td>Abnormal</td>\n",
       "    </tr>\n",
       "  </tbody>\n",
       "</table>\n",
       "</div>"
      ],
      "text/plain": [
       "   pelvic_incidence  pelvic tilt  lumbar_lordosis_angle  sacral_slope  \\\n",
       "0         36.157830    -0.810514              33.627314     36.968344   \n",
       "1         67.289712    16.717514              51.000000     50.572198   \n",
       "2         74.854480    13.909084              62.693259     60.945396   \n",
       "3         71.001941    37.515772              84.537093     33.486169   \n",
       "4         75.298478    16.671484              61.296204     58.626995   \n",
       "\n",
       "   pelvic_radius  degree_spondylolisthesis  pelvic_slope  direct_tilt  \\\n",
       "0     135.936910                 -2.092507      0.332027      10.4752   \n",
       "1     137.591778                  4.960344      0.233195      23.3207   \n",
       "2     115.208701                 33.172255      0.821915      20.4667   \n",
       "3     125.164232                 67.771190      0.602698      10.1025   \n",
       "4     118.883388                 31.575823      0.677506      10.1345   \n",
       "\n",
       "   thoracic_slope  cervical_tilt  sacrum_angle  scoliosis_slope class_att  \n",
       "0         17.1414       13.60366    -12.162522          28.3449    Normal  \n",
       "1         13.7148       10.46265     -9.187554          27.8587    Normal  \n",
       "2          9.3510       14.37763      4.230442          39.2266  Abnormal  \n",
       "3         14.5544       10.61123    -23.883075          38.7949  Abnormal  \n",
       "4         12.2607       11.22559    -12.196755          31.7385  Abnormal  "
      ]
     },
     "execution_count": 339,
     "metadata": {},
     "output_type": "execute_result"
    }
   ],
   "source": [
    "spine_data.head()"
   ]
  },
  {
   "cell_type": "code",
   "execution_count": 340,
   "metadata": {},
   "outputs": [
    {
     "data": {
      "text/plain": [
       "(310, 13)"
      ]
     },
     "execution_count": 340,
     "metadata": {},
     "output_type": "execute_result"
    }
   ],
   "source": [
    "spine_data.shape"
   ]
  },
  {
   "cell_type": "code",
   "execution_count": 341,
   "metadata": {},
   "outputs": [
    {
     "data": {
      "text/plain": [
       "Index(['pelvic_incidence', 'pelvic tilt', 'lumbar_lordosis_angle',\n",
       "       'sacral_slope', 'pelvic_radius', 'degree_spondylolisthesis',\n",
       "       'pelvic_slope', 'direct_tilt', 'thoracic_slope', 'cervical_tilt',\n",
       "       'sacrum_angle', 'scoliosis_slope', 'class_att'],\n",
       "      dtype='object')"
      ]
     },
     "execution_count": 341,
     "metadata": {},
     "output_type": "execute_result"
    }
   ],
   "source": [
    "spine_data.columns"
   ]
  },
  {
   "cell_type": "code",
   "execution_count": 342,
   "metadata": {},
   "outputs": [
    {
     "data": {
      "text/plain": [
       "array(['Normal', 'Abnormal'], dtype=object)"
      ]
     },
     "execution_count": 342,
     "metadata": {},
     "output_type": "execute_result"
    }
   ],
   "source": [
    "spine_data['class_att'].unique()"
   ]
  },
  {
   "cell_type": "code",
   "execution_count": 343,
   "metadata": {},
   "outputs": [
    {
     "data": {
      "text/html": [
       "<div>\n",
       "<style scoped>\n",
       "    .dataframe tbody tr th:only-of-type {\n",
       "        vertical-align: middle;\n",
       "    }\n",
       "\n",
       "    .dataframe tbody tr th {\n",
       "        vertical-align: top;\n",
       "    }\n",
       "\n",
       "    .dataframe thead th {\n",
       "        text-align: right;\n",
       "    }\n",
       "</style>\n",
       "<table border=\"1\" class=\"dataframe\">\n",
       "  <thead>\n",
       "    <tr style=\"text-align: right;\">\n",
       "      <th></th>\n",
       "      <th>count</th>\n",
       "      <th>mean</th>\n",
       "      <th>std</th>\n",
       "      <th>min</th>\n",
       "      <th>25%</th>\n",
       "      <th>50%</th>\n",
       "      <th>75%</th>\n",
       "      <th>max</th>\n",
       "    </tr>\n",
       "  </thead>\n",
       "  <tbody>\n",
       "    <tr>\n",
       "      <th>pelvic_incidence</th>\n",
       "      <td>310.0</td>\n",
       "      <td>60.496653</td>\n",
       "      <td>17.236520</td>\n",
       "      <td>26.147921</td>\n",
       "      <td>46.430294</td>\n",
       "      <td>58.691038</td>\n",
       "      <td>72.877696</td>\n",
       "      <td>129.834041</td>\n",
       "    </tr>\n",
       "    <tr>\n",
       "      <th>pelvic tilt</th>\n",
       "      <td>310.0</td>\n",
       "      <td>17.542822</td>\n",
       "      <td>10.008330</td>\n",
       "      <td>-6.554948</td>\n",
       "      <td>10.667069</td>\n",
       "      <td>16.357689</td>\n",
       "      <td>22.120395</td>\n",
       "      <td>49.431864</td>\n",
       "    </tr>\n",
       "    <tr>\n",
       "      <th>lumbar_lordosis_angle</th>\n",
       "      <td>310.0</td>\n",
       "      <td>51.930930</td>\n",
       "      <td>18.554064</td>\n",
       "      <td>14.000000</td>\n",
       "      <td>37.000000</td>\n",
       "      <td>49.562398</td>\n",
       "      <td>63.000000</td>\n",
       "      <td>125.742385</td>\n",
       "    </tr>\n",
       "    <tr>\n",
       "      <th>sacral_slope</th>\n",
       "      <td>310.0</td>\n",
       "      <td>42.953831</td>\n",
       "      <td>13.423102</td>\n",
       "      <td>13.366931</td>\n",
       "      <td>33.347122</td>\n",
       "      <td>42.404912</td>\n",
       "      <td>52.695888</td>\n",
       "      <td>121.429566</td>\n",
       "    </tr>\n",
       "    <tr>\n",
       "      <th>pelvic_radius</th>\n",
       "      <td>310.0</td>\n",
       "      <td>117.920655</td>\n",
       "      <td>13.317377</td>\n",
       "      <td>70.082575</td>\n",
       "      <td>110.709196</td>\n",
       "      <td>118.268178</td>\n",
       "      <td>125.467674</td>\n",
       "      <td>163.071041</td>\n",
       "    </tr>\n",
       "    <tr>\n",
       "      <th>degree_spondylolisthesis</th>\n",
       "      <td>310.0</td>\n",
       "      <td>26.296694</td>\n",
       "      <td>37.559027</td>\n",
       "      <td>-11.058179</td>\n",
       "      <td>1.603727</td>\n",
       "      <td>11.767934</td>\n",
       "      <td>41.287352</td>\n",
       "      <td>418.543082</td>\n",
       "    </tr>\n",
       "    <tr>\n",
       "      <th>pelvic_slope</th>\n",
       "      <td>310.0</td>\n",
       "      <td>0.472979</td>\n",
       "      <td>0.285787</td>\n",
       "      <td>0.003220</td>\n",
       "      <td>0.224367</td>\n",
       "      <td>0.475989</td>\n",
       "      <td>0.704846</td>\n",
       "      <td>0.998827</td>\n",
       "    </tr>\n",
       "    <tr>\n",
       "      <th>direct_tilt</th>\n",
       "      <td>310.0</td>\n",
       "      <td>21.321526</td>\n",
       "      <td>8.639423</td>\n",
       "      <td>7.027000</td>\n",
       "      <td>13.054400</td>\n",
       "      <td>21.907150</td>\n",
       "      <td>28.954075</td>\n",
       "      <td>36.743900</td>\n",
       "    </tr>\n",
       "    <tr>\n",
       "      <th>thoracic_slope</th>\n",
       "      <td>310.0</td>\n",
       "      <td>13.064511</td>\n",
       "      <td>3.399713</td>\n",
       "      <td>7.037800</td>\n",
       "      <td>10.417800</td>\n",
       "      <td>12.938450</td>\n",
       "      <td>15.889525</td>\n",
       "      <td>19.324000</td>\n",
       "    </tr>\n",
       "    <tr>\n",
       "      <th>cervical_tilt</th>\n",
       "      <td>310.0</td>\n",
       "      <td>11.933317</td>\n",
       "      <td>2.893265</td>\n",
       "      <td>7.030600</td>\n",
       "      <td>9.541140</td>\n",
       "      <td>11.953835</td>\n",
       "      <td>14.371810</td>\n",
       "      <td>16.821080</td>\n",
       "    </tr>\n",
       "    <tr>\n",
       "      <th>sacrum_angle</th>\n",
       "      <td>310.0</td>\n",
       "      <td>-14.053139</td>\n",
       "      <td>12.225582</td>\n",
       "      <td>-35.287375</td>\n",
       "      <td>-24.289522</td>\n",
       "      <td>-14.622856</td>\n",
       "      <td>-3.497094</td>\n",
       "      <td>6.972071</td>\n",
       "    </tr>\n",
       "    <tr>\n",
       "      <th>scoliosis_slope</th>\n",
       "      <td>310.0</td>\n",
       "      <td>25.645981</td>\n",
       "      <td>10.450558</td>\n",
       "      <td>7.007900</td>\n",
       "      <td>17.189075</td>\n",
       "      <td>24.931950</td>\n",
       "      <td>33.979600</td>\n",
       "      <td>44.341200</td>\n",
       "    </tr>\n",
       "  </tbody>\n",
       "</table>\n",
       "</div>"
      ],
      "text/plain": [
       "                          count        mean        std        min         25%  \\\n",
       "pelvic_incidence          310.0   60.496653  17.236520  26.147921   46.430294   \n",
       "pelvic tilt               310.0   17.542822  10.008330  -6.554948   10.667069   \n",
       "lumbar_lordosis_angle     310.0   51.930930  18.554064  14.000000   37.000000   \n",
       "sacral_slope              310.0   42.953831  13.423102  13.366931   33.347122   \n",
       "pelvic_radius             310.0  117.920655  13.317377  70.082575  110.709196   \n",
       "degree_spondylolisthesis  310.0   26.296694  37.559027 -11.058179    1.603727   \n",
       "pelvic_slope              310.0    0.472979   0.285787   0.003220    0.224367   \n",
       "direct_tilt               310.0   21.321526   8.639423   7.027000   13.054400   \n",
       "thoracic_slope            310.0   13.064511   3.399713   7.037800   10.417800   \n",
       "cervical_tilt             310.0   11.933317   2.893265   7.030600    9.541140   \n",
       "sacrum_angle              310.0  -14.053139  12.225582 -35.287375  -24.289522   \n",
       "scoliosis_slope           310.0   25.645981  10.450558   7.007900   17.189075   \n",
       "\n",
       "                                 50%         75%         max  \n",
       "pelvic_incidence           58.691038   72.877696  129.834041  \n",
       "pelvic tilt                16.357689   22.120395   49.431864  \n",
       "lumbar_lordosis_angle      49.562398   63.000000  125.742385  \n",
       "sacral_slope               42.404912   52.695888  121.429566  \n",
       "pelvic_radius             118.268178  125.467674  163.071041  \n",
       "degree_spondylolisthesis   11.767934   41.287352  418.543082  \n",
       "pelvic_slope                0.475989    0.704846    0.998827  \n",
       "direct_tilt                21.907150   28.954075   36.743900  \n",
       "thoracic_slope             12.938450   15.889525   19.324000  \n",
       "cervical_tilt              11.953835   14.371810   16.821080  \n",
       "sacrum_angle              -14.622856   -3.497094    6.972071  \n",
       "scoliosis_slope            24.931950   33.979600   44.341200  "
      ]
     },
     "execution_count": 343,
     "metadata": {},
     "output_type": "execute_result"
    }
   ],
   "source": [
    "spine_data.describe().transpose()"
   ]
  },
  {
   "cell_type": "code",
   "execution_count": 344,
   "metadata": {},
   "outputs": [
    {
     "name": "stderr",
     "output_type": "stream",
     "text": [
      "/Library/Frameworks/Python.framework/Versions/3.10/lib/python3.10/site-packages/seaborn/_decorators.py:36: FutureWarning: Pass the following variable as a keyword arg: x. From version 0.12, the only valid positional argument will be `data`, and passing other arguments without an explicit keyword will result in an error or misinterpretation.\n",
      "  warnings.warn(\n"
     ]
    },
    {
     "data": {
      "image/png": "[encoded data removed]",
      "text/plain": [
       "<Figure size 576x432 with 1 Axes>"
      ]
     },
     "metadata": {
      "needs_background": "light"
     },
     "output_type": "display_data"
    }
   ],
   "source": [
    "plt.figure(figsize=(8, 6))\n",
    "\n",
    "sns.countplot('class_att', data = spine_data)\n",
    "\n",
    "plt.xlabel('class_att', fontsize = 20)\n",
    "plt.ylabel('count', fontsize = 20)\n",
    "\n",
    "plt.show()"
   ]
  },
  {
   "cell_type": "code",
   "execution_count": 345,
   "metadata": {},
   "outputs": [
    {
     "name": "stderr",
     "output_type": "stream",
     "text": [
      "/Library/Frameworks/Python.framework/Versions/3.10/lib/python3.10/site-packages/seaborn/_decorators.py:36: FutureWarning: Pass the following variables as keyword args: x, y. From version 0.12, the only valid positional argument will be `data`, and passing other arguments without an explicit keyword will result in an error or misinterpretation.\n",
      "  warnings.warn(\n"
     ]
    },
    {
     "data": {
      "image/png": "[encoded data removed]",
      "text/plain": [
       "<Figure size 576x432 with 1 Axes>"
      ]
     },
     "metadata": {
      "needs_background": "light"
     },
     "output_type": "display_data"
    }
   ],
   "source": [
    "plt.figure(figsize=(8, 6))\n",
    "\n",
    "sns.boxplot('class_att', 'pelvic_incidence', data = spine_data)\n",
    "\n",
    "plt.xlabel('class_att', fontsize = 20)\n",
    "plt.ylabel('pelvic_incidence', fontsize = 20)\n",
    "\n",
    "plt.show()"
   ]
  },
  {
   "cell_type": "code",
   "execution_count": 346,
   "metadata": {},
   "outputs": [
    {
     "name": "stderr",
     "output_type": "stream",
     "text": [
      "/Library/Frameworks/Python.framework/Versions/3.10/lib/python3.10/site-packages/seaborn/_decorators.py:36: FutureWarning: Pass the following variables as keyword args: x, y. From version 0.12, the only valid positional argument will be `data`, and passing other arguments without an explicit keyword will result in an error or misinterpretation.\n",
      "  warnings.warn(\n"
     ]
    },
    {
     "data": {
      "image/png": "[encoded data removed]",
      "text/plain": [
       "<Figure size 576x432 with 1 Axes>"
      ]
     },
     "metadata": {
      "needs_background": "light"
     },
     "output_type": "display_data"
    }
   ],
   "source": [
    "plt.figure(figsize=(8, 6))\n",
    "\n",
    "sns.boxplot('class_att', 'lumbar_lordosis_angle', data = spine_data)\n",
    "\n",
    "plt.xlabel('class_att', fontsize = 20)\n",
    "plt.ylabel('lumbar_lordosis_angle', fontsize = 20)\n",
    "\n",
    "plt.show()"
   ]
  },
  {
   "cell_type": "code",
   "execution_count": 347,
   "metadata": {},
   "outputs": [
    {
     "name": "stderr",
     "output_type": "stream",
     "text": [
      "/Library/Frameworks/Python.framework/Versions/3.10/lib/python3.10/site-packages/seaborn/_decorators.py:36: FutureWarning: Pass the following variables as keyword args: x, y. From version 0.12, the only valid positional argument will be `data`, and passing other arguments without an explicit keyword will result in an error or misinterpretation.\n",
      "  warnings.warn(\n"
     ]
    },
    {
     "data": {
      "image/png": "[encoded data removed]",
      "text/plain": [
       "<Figure size 576x432 with 1 Axes>"
      ]
     },
     "metadata": {
      "needs_background": "light"
     },
     "output_type": "display_data"
    }
   ],
   "source": [
    "plt.figure(figsize=(8, 6))\n",
    "\n",
    "sns.boxplot('class_att', 'pelvic_radius', data = spine_data)\n",
    "\n",
    "plt.xlabel('class_att', fontsize = 20)\n",
    "plt.ylabel('pelvic_radius', fontsize = 20)\n",
    "\n",
    "plt.show()"
   ]
  },
  {
   "cell_type": "markdown",
   "metadata": {},
   "source": [
    "### Replacing string values with integers in target column"
   ]
  },
  {
   "cell_type": "code",
   "execution_count": 348,
   "metadata": {},
   "outputs": [
    {
     "data": {
      "text/html": [
       "<div>\n",
       "<style scoped>\n",
       "    .dataframe tbody tr th:only-of-type {\n",
       "        vertical-align: middle;\n",
       "    }\n",
       "\n",
       "    .dataframe tbody tr th {\n",
       "        vertical-align: top;\n",
       "    }\n",
       "\n",
       "    .dataframe thead th {\n",
       "        text-align: right;\n",
       "    }\n",
       "</style>\n",
       "<table border=\"1\" class=\"dataframe\">\n",
       "  <thead>\n",
       "    <tr style=\"text-align: right;\">\n",
       "      <th></th>\n",
       "      <th>class_att</th>\n",
       "    </tr>\n",
       "  </thead>\n",
       "  <tbody>\n",
       "    <tr>\n",
       "      <th>141</th>\n",
       "      <td>0</td>\n",
       "    </tr>\n",
       "    <tr>\n",
       "      <th>216</th>\n",
       "      <td>0</td>\n",
       "    </tr>\n",
       "    <tr>\n",
       "      <th>179</th>\n",
       "      <td>0</td>\n",
       "    </tr>\n",
       "    <tr>\n",
       "      <th>255</th>\n",
       "      <td>1</td>\n",
       "    </tr>\n",
       "    <tr>\n",
       "      <th>38</th>\n",
       "      <td>0</td>\n",
       "    </tr>\n",
       "    <tr>\n",
       "      <th>2</th>\n",
       "      <td>0</td>\n",
       "    </tr>\n",
       "    <tr>\n",
       "      <th>16</th>\n",
       "      <td>0</td>\n",
       "    </tr>\n",
       "    <tr>\n",
       "      <th>279</th>\n",
       "      <td>1</td>\n",
       "    </tr>\n",
       "    <tr>\n",
       "      <th>12</th>\n",
       "      <td>0</td>\n",
       "    </tr>\n",
       "    <tr>\n",
       "      <th>1</th>\n",
       "      <td>1</td>\n",
       "    </tr>\n",
       "  </tbody>\n",
       "</table>\n",
       "</div>"
      ],
      "text/plain": [
       "     class_att\n",
       "141          0\n",
       "216          0\n",
       "179          0\n",
       "255          1\n",
       "38           0\n",
       "2            0\n",
       "16           0\n",
       "279          1\n",
       "12           0\n",
       "1            1"
      ]
     },
     "execution_count": 348,
     "metadata": {},
     "output_type": "execute_result"
    }
   ],
   "source": [
    "class_att = {'Abnormal':0, 'Normal':1}\n",
    "\n",
    "spine_data['class_att'].replace(class_att, inplace=True)\n",
    "\n",
    "spine_data[['class_att']].sample(10)"
   ]
  },
  {
   "cell_type": "code",
   "execution_count": 349,
   "metadata": {},
   "outputs": [],
   "source": [
    "features = spine_data.drop('class_att', axis=1)\n",
    "\n",
    "target = spine_data[['class_att']]"
   ]
  },
  {
   "cell_type": "code",
   "execution_count": 350,
   "metadata": {},
   "outputs": [
    {
     "data": {
      "text/html": [
       "<div>\n",
       "<style scoped>\n",
       "    .dataframe tbody tr th:only-of-type {\n",
       "        vertical-align: middle;\n",
       "    }\n",
       "\n",
       "    .dataframe tbody tr th {\n",
       "        vertical-align: top;\n",
       "    }\n",
       "\n",
       "    .dataframe thead th {\n",
       "        text-align: right;\n",
       "    }\n",
       "</style>\n",
       "<table border=\"1\" class=\"dataframe\">\n",
       "  <thead>\n",
       "    <tr style=\"text-align: right;\">\n",
       "      <th></th>\n",
       "      <th>18</th>\n",
       "      <th>31</th>\n",
       "      <th>281</th>\n",
       "      <th>141</th>\n",
       "      <th>147</th>\n",
       "    </tr>\n",
       "  </thead>\n",
       "  <tbody>\n",
       "    <tr>\n",
       "      <th>pelvic_incidence</th>\n",
       "      <td>63.834982</td>\n",
       "      <td>75.649731</td>\n",
       "      <td>67.804694</td>\n",
       "      <td>53.854798</td>\n",
       "      <td>82.905351</td>\n",
       "    </tr>\n",
       "    <tr>\n",
       "      <th>pelvic tilt</th>\n",
       "      <td>20.362507</td>\n",
       "      <td>19.339799</td>\n",
       "      <td>16.550662</td>\n",
       "      <td>19.230643</td>\n",
       "      <td>29.894119</td>\n",
       "    </tr>\n",
       "    <tr>\n",
       "      <th>lumbar_lordosis_angle</th>\n",
       "      <td>54.552434</td>\n",
       "      <td>64.148685</td>\n",
       "      <td>43.256802</td>\n",
       "      <td>32.779060</td>\n",
       "      <td>58.250542</td>\n",
       "    </tr>\n",
       "    <tr>\n",
       "      <th>sacral_slope</th>\n",
       "      <td>43.472475</td>\n",
       "      <td>56.309932</td>\n",
       "      <td>51.254033</td>\n",
       "      <td>34.624155</td>\n",
       "      <td>53.011232</td>\n",
       "    </tr>\n",
       "    <tr>\n",
       "      <th>pelvic_radius</th>\n",
       "      <td>112.309491</td>\n",
       "      <td>95.903629</td>\n",
       "      <td>119.685645</td>\n",
       "      <td>121.670915</td>\n",
       "      <td>110.708958</td>\n",
       "    </tr>\n",
       "    <tr>\n",
       "      <th>degree_spondylolisthesis</th>\n",
       "      <td>-0.622527</td>\n",
       "      <td>69.551303</td>\n",
       "      <td>4.867540</td>\n",
       "      <td>5.329843</td>\n",
       "      <td>6.079338</td>\n",
       "    </tr>\n",
       "    <tr>\n",
       "      <th>pelvic_slope</th>\n",
       "      <td>0.560675</td>\n",
       "      <td>0.687092</td>\n",
       "      <td>0.036158</td>\n",
       "      <td>0.417637</td>\n",
       "      <td>0.827146</td>\n",
       "    </tr>\n",
       "    <tr>\n",
       "      <th>direct_tilt</th>\n",
       "      <td>10.769000</td>\n",
       "      <td>24.100400</td>\n",
       "      <td>18.489400</td>\n",
       "      <td>9.351400</td>\n",
       "      <td>12.562200</td>\n",
       "    </tr>\n",
       "    <tr>\n",
       "      <th>thoracic_slope</th>\n",
       "      <td>16.811600</td>\n",
       "      <td>13.344400</td>\n",
       "      <td>15.401600</td>\n",
       "      <td>11.524300</td>\n",
       "      <td>12.364600</td>\n",
       "    </tr>\n",
       "    <tr>\n",
       "      <th>cervical_tilt</th>\n",
       "      <td>11.413440</td>\n",
       "      <td>15.756020</td>\n",
       "      <td>13.865680</td>\n",
       "      <td>12.376990</td>\n",
       "      <td>16.617540</td>\n",
       "    </tr>\n",
       "    <tr>\n",
       "      <th>sacrum_angle</th>\n",
       "      <td>2.676002</td>\n",
       "      <td>-0.550516</td>\n",
       "      <td>-17.473008</td>\n",
       "      <td>-24.199605</td>\n",
       "      <td>-15.758791</td>\n",
       "    </tr>\n",
       "    <tr>\n",
       "      <th>scoliosis_slope</th>\n",
       "      <td>17.385900</td>\n",
       "      <td>18.291500</td>\n",
       "      <td>39.352600</td>\n",
       "      <td>11.337500</td>\n",
       "      <td>35.945800</td>\n",
       "    </tr>\n",
       "  </tbody>\n",
       "</table>\n",
       "</div>"
      ],
      "text/plain": [
       "                                 18         31          281         141  \\\n",
       "pelvic_incidence           63.834982  75.649731   67.804694   53.854798   \n",
       "pelvic tilt                20.362507  19.339799   16.550662   19.230643   \n",
       "lumbar_lordosis_angle      54.552434  64.148685   43.256802   32.779060   \n",
       "sacral_slope               43.472475  56.309932   51.254033   34.624155   \n",
       "pelvic_radius             112.309491  95.903629  119.685645  121.670915   \n",
       "degree_spondylolisthesis   -0.622527  69.551303    4.867540    5.329843   \n",
       "pelvic_slope                0.560675   0.687092    0.036158    0.417637   \n",
       "direct_tilt                10.769000  24.100400   18.489400    9.351400   \n",
       "thoracic_slope             16.811600  13.344400   15.401600   11.524300   \n",
       "cervical_tilt              11.413440  15.756020   13.865680   12.376990   \n",
       "sacrum_angle                2.676002  -0.550516  -17.473008  -24.199605   \n",
       "scoliosis_slope            17.385900  18.291500   39.352600   11.337500   \n",
       "\n",
       "                                 147  \n",
       "pelvic_incidence           82.905351  \n",
       "pelvic tilt                29.894119  \n",
       "lumbar_lordosis_angle      58.250542  \n",
       "sacral_slope               53.011232  \n",
       "pelvic_radius             110.708958  \n",
       "degree_spondylolisthesis    6.079338  \n",
       "pelvic_slope                0.827146  \n",
       "direct_tilt                12.562200  \n",
       "thoracic_slope             12.364600  \n",
       "cervical_tilt              16.617540  \n",
       "sacrum_angle              -15.758791  \n",
       "scoliosis_slope            35.945800  "
      ]
     },
     "execution_count": 350,
     "metadata": {},
     "output_type": "execute_result"
    }
   ],
   "source": [
    "features.sample(5).T"
   ]
  },
  {
   "cell_type": "code",
   "execution_count": 351,
   "metadata": {},
   "outputs": [
    {
     "data": {
      "text/html": [
       "<div>\n",
       "<style scoped>\n",
       "    .dataframe tbody tr th:only-of-type {\n",
       "        vertical-align: middle;\n",
       "    }\n",
       "\n",
       "    .dataframe tbody tr th {\n",
       "        vertical-align: top;\n",
       "    }\n",
       "\n",
       "    .dataframe thead th {\n",
       "        text-align: right;\n",
       "    }\n",
       "</style>\n",
       "<table border=\"1\" class=\"dataframe\">\n",
       "  <thead>\n",
       "    <tr style=\"text-align: right;\">\n",
       "      <th></th>\n",
       "      <th>class_att</th>\n",
       "    </tr>\n",
       "  </thead>\n",
       "  <tbody>\n",
       "    <tr>\n",
       "      <th>64</th>\n",
       "      <td>0</td>\n",
       "    </tr>\n",
       "    <tr>\n",
       "      <th>164</th>\n",
       "      <td>0</td>\n",
       "    </tr>\n",
       "    <tr>\n",
       "      <th>188</th>\n",
       "      <td>0</td>\n",
       "    </tr>\n",
       "    <tr>\n",
       "      <th>294</th>\n",
       "      <td>0</td>\n",
       "    </tr>\n",
       "    <tr>\n",
       "      <th>238</th>\n",
       "      <td>0</td>\n",
       "    </tr>\n",
       "  </tbody>\n",
       "</table>\n",
       "</div>"
      ],
      "text/plain": [
       "     class_att\n",
       "64           0\n",
       "164          0\n",
       "188          0\n",
       "294          0\n",
       "238          0"
      ]
     },
     "execution_count": 351,
     "metadata": {},
     "output_type": "execute_result"
    }
   ],
   "source": [
    "target.sample(5)"
   ]
  },
  {
   "cell_type": "code",
   "execution_count": 352,
   "metadata": {},
   "outputs": [
    {
     "data": {
      "text/html": [
       "<div>\n",
       "<style scoped>\n",
       "    .dataframe tbody tr th:only-of-type {\n",
       "        vertical-align: middle;\n",
       "    }\n",
       "\n",
       "    .dataframe tbody tr th {\n",
       "        vertical-align: top;\n",
       "    }\n",
       "\n",
       "    .dataframe thead th {\n",
       "        text-align: right;\n",
       "    }\n",
       "</style>\n",
       "<table border=\"1\" class=\"dataframe\">\n",
       "  <thead>\n",
       "    <tr style=\"text-align: right;\">\n",
       "      <th></th>\n",
       "      <th>count</th>\n",
       "      <th>mean</th>\n",
       "      <th>std</th>\n",
       "      <th>min</th>\n",
       "      <th>25%</th>\n",
       "      <th>50%</th>\n",
       "      <th>75%</th>\n",
       "      <th>max</th>\n",
       "    </tr>\n",
       "  </thead>\n",
       "  <tbody>\n",
       "    <tr>\n",
       "      <th>pelvic_incidence</th>\n",
       "      <td>310.0</td>\n",
       "      <td>-9.239921e-16</td>\n",
       "      <td>1.001617</td>\n",
       "      <td>-1.996010</td>\n",
       "      <td>-0.817398</td>\n",
       "      <td>-0.104925</td>\n",
       "      <td>0.719464</td>\n",
       "      <td>4.029206</td>\n",
       "    </tr>\n",
       "    <tr>\n",
       "      <th>pelvic tilt</th>\n",
       "      <td>310.0</td>\n",
       "      <td>2.120168e-16</td>\n",
       "      <td>1.001617</td>\n",
       "      <td>-2.411664</td>\n",
       "      <td>-0.688114</td>\n",
       "      <td>-0.118606</td>\n",
       "      <td>0.458116</td>\n",
       "      <td>3.191402</td>\n",
       "    </tr>\n",
       "    <tr>\n",
       "      <th>lumbar_lordosis_angle</th>\n",
       "      <td>310.0</td>\n",
       "      <td>1.890961e-16</td>\n",
       "      <td>1.001617</td>\n",
       "      <td>-2.047652</td>\n",
       "      <td>-0.806027</td>\n",
       "      <td>-0.127862</td>\n",
       "      <td>0.597549</td>\n",
       "      <td>3.984615</td>\n",
       "    </tr>\n",
       "    <tr>\n",
       "      <th>sacral_slope</th>\n",
       "      <td>310.0</td>\n",
       "      <td>-1.403895e-16</td>\n",
       "      <td>1.001617</td>\n",
       "      <td>-2.207741</td>\n",
       "      <td>-0.716842</td>\n",
       "      <td>-0.040960</td>\n",
       "      <td>0.726941</td>\n",
       "      <td>5.855771</td>\n",
       "    </tr>\n",
       "    <tr>\n",
       "      <th>pelvic_radius</th>\n",
       "      <td>310.0</td>\n",
       "      <td>4.125732e-16</td>\n",
       "      <td>1.001617</td>\n",
       "      <td>-3.597963</td>\n",
       "      <td>-0.542383</td>\n",
       "      <td>0.026138</td>\n",
       "      <td>0.567621</td>\n",
       "      <td>3.395818</td>\n",
       "    </tr>\n",
       "    <tr>\n",
       "      <th>degree_spondylolisthesis</th>\n",
       "      <td>310.0</td>\n",
       "      <td>-1.719055e-17</td>\n",
       "      <td>1.001617</td>\n",
       "      <td>-0.996172</td>\n",
       "      <td>-0.658507</td>\n",
       "      <td>-0.387450</td>\n",
       "      <td>0.399768</td>\n",
       "      <td>10.460350</td>\n",
       "    </tr>\n",
       "    <tr>\n",
       "      <th>pelvic_slope</th>\n",
       "      <td>310.0</td>\n",
       "      <td>2.435328e-17</td>\n",
       "      <td>1.001617</td>\n",
       "      <td>-1.646397</td>\n",
       "      <td>-0.871329</td>\n",
       "      <td>0.010547</td>\n",
       "      <td>0.812640</td>\n",
       "      <td>1.842974</td>\n",
       "    </tr>\n",
       "    <tr>\n",
       "      <th>direct_tilt</th>\n",
       "      <td>310.0</td>\n",
       "      <td>9.168293e-17</td>\n",
       "      <td>1.001617</td>\n",
       "      <td>-1.657245</td>\n",
       "      <td>-0.958454</td>\n",
       "      <td>0.067895</td>\n",
       "      <td>0.884884</td>\n",
       "      <td>1.788002</td>\n",
       "    </tr>\n",
       "    <tr>\n",
       "      <th>thoracic_slope</th>\n",
       "      <td>310.0</td>\n",
       "      <td>2.521281e-16</td>\n",
       "      <td>1.001617</td>\n",
       "      <td>-1.775578</td>\n",
       "      <td>-0.779769</td>\n",
       "      <td>-0.037140</td>\n",
       "      <td>0.832300</td>\n",
       "      <td>1.844158</td>\n",
       "    </tr>\n",
       "    <tr>\n",
       "      <th>cervical_tilt</th>\n",
       "      <td>310.0</td>\n",
       "      <td>1.719055e-16</td>\n",
       "      <td>1.001617</td>\n",
       "      <td>-1.697267</td>\n",
       "      <td>-0.828145</td>\n",
       "      <td>0.007103</td>\n",
       "      <td>0.844180</td>\n",
       "      <td>1.692090</td>\n",
       "    </tr>\n",
       "    <tr>\n",
       "      <th>sacrum_angle</th>\n",
       "      <td>310.0</td>\n",
       "      <td>2.406677e-16</td>\n",
       "      <td>1.001617</td>\n",
       "      <td>-1.739677</td>\n",
       "      <td>-0.838646</td>\n",
       "      <td>-0.046676</td>\n",
       "      <td>0.864835</td>\n",
       "      <td>1.722552</td>\n",
       "    </tr>\n",
       "    <tr>\n",
       "      <th>scoliosis_slope</th>\n",
       "      <td>310.0</td>\n",
       "      <td>-8.881784e-17</td>\n",
       "      <td>1.001617</td>\n",
       "      <td>-1.786337</td>\n",
       "      <td>-0.810538</td>\n",
       "      <td>-0.068435</td>\n",
       "      <td>0.798722</td>\n",
       "      <td>1.791813</td>\n",
       "    </tr>\n",
       "  </tbody>\n",
       "</table>\n",
       "</div>"
      ],
      "text/plain": [
       "                          count          mean       std       min       25%  \\\n",
       "pelvic_incidence          310.0 -9.239921e-16  1.001617 -1.996010 -0.817398   \n",
       "pelvic tilt               310.0  2.120168e-16  1.001617 -2.411664 -0.688114   \n",
       "lumbar_lordosis_angle     310.0  1.890961e-16  1.001617 -2.047652 -0.806027   \n",
       "sacral_slope              310.0 -1.403895e-16  1.001617 -2.207741 -0.716842   \n",
       "pelvic_radius             310.0  4.125732e-16  1.001617 -3.597963 -0.542383   \n",
       "degree_spondylolisthesis  310.0 -1.719055e-17  1.001617 -0.996172 -0.658507   \n",
       "pelvic_slope              310.0  2.435328e-17  1.001617 -1.646397 -0.871329   \n",
       "direct_tilt               310.0  9.168293e-17  1.001617 -1.657245 -0.958454   \n",
       "thoracic_slope            310.0  2.521281e-16  1.001617 -1.775578 -0.779769   \n",
       "cervical_tilt             310.0  1.719055e-16  1.001617 -1.697267 -0.828145   \n",
       "sacrum_angle              310.0  2.406677e-16  1.001617 -1.739677 -0.838646   \n",
       "scoliosis_slope           310.0 -8.881784e-17  1.001617 -1.786337 -0.810538   \n",
       "\n",
       "                               50%       75%        max  \n",
       "pelvic_incidence         -0.104925  0.719464   4.029206  \n",
       "pelvic tilt              -0.118606  0.458116   3.191402  \n",
       "lumbar_lordosis_angle    -0.127862  0.597549   3.984615  \n",
       "sacral_slope             -0.040960  0.726941   5.855771  \n",
       "pelvic_radius             0.026138  0.567621   3.395818  \n",
       "degree_spondylolisthesis -0.387450  0.399768  10.460350  \n",
       "pelvic_slope              0.010547  0.812640   1.842974  \n",
       "direct_tilt               0.067895  0.884884   1.788002  \n",
       "thoracic_slope           -0.037140  0.832300   1.844158  \n",
       "cervical_tilt             0.007103  0.844180   1.692090  \n",
       "sacrum_angle             -0.046676  0.864835   1.722552  \n",
       "scoliosis_slope          -0.068435  0.798722   1.791813  "
      ]
     },
     "execution_count": 352,
     "metadata": {},
     "output_type": "execute_result"
    }
   ],
   "source": [
    "standardScaler = StandardScaler()\n",
    "\n",
    "scaled_features = pd.DataFrame(standardScaler.fit_transform(features), \n",
    "                               columns=features.columns,\n",
    "                               index=features.index)\n",
    "\n",
    "scaled_features.describe().T"
   ]
  },
  {
   "cell_type": "code",
   "execution_count": 353,
   "metadata": {},
   "outputs": [
    {
     "data": {
      "text/plain": [
       "(310, 12)"
      ]
     },
     "execution_count": 353,
     "metadata": {},
     "output_type": "execute_result"
    }
   ],
   "source": [
    "scaled_features.shape"
   ]
  },
  {
   "cell_type": "markdown",
   "metadata": {},
   "source": [
    "### Splitting dataset into training and testing"
   ]
  },
  {
   "cell_type": "code",
   "execution_count": 354,
   "metadata": {},
   "outputs": [],
   "source": [
    "from sklearn.model_selection import train_test_split\n",
    "\n",
    "x_train, x_test, y_train, y_test = train_test_split(scaled_features, \n",
    "                                                    target, \n",
    "                                                    test_size=0.15,\n",
    "                                                    random_state=10)"
   ]
  },
  {
   "cell_type": "code",
   "execution_count": 355,
   "metadata": {},
   "outputs": [
    {
     "data": {
      "text/plain": [
       "((263, 12), (47, 12))"
      ]
     },
     "execution_count": 355,
     "metadata": {},
     "output_type": "execute_result"
    }
   ],
   "source": [
    "x_train.shape, x_test.shape"
   ]
  },
  {
   "cell_type": "code",
   "execution_count": 356,
   "metadata": {},
   "outputs": [],
   "source": [
    "x_train, x_val, y_train, y_val = train_test_split(x_train, \n",
    "                                                  y_train, \n",
    "                                                  test_size=0.15,\n",
    "                                                  random_state=10)"
   ]
  },
  {
   "cell_type": "code",
   "execution_count": 357,
   "metadata": {},
   "outputs": [
    {
     "data": {
      "text/plain": [
       "((223, 12), (40, 12), (47, 12))"
      ]
     },
     "execution_count": 357,
     "metadata": {},
     "output_type": "execute_result"
    }
   ],
   "source": [
    "x_train.shape, x_val.shape, x_test.shape"
   ]
  },
  {
   "cell_type": "code",
   "execution_count": 358,
   "metadata": {},
   "outputs": [
    {
     "data": {
      "text/plain": [
       "((223, 1), (40, 1), (47, 1))"
      ]
     },
     "execution_count": 358,
     "metadata": {},
     "output_type": "execute_result"
    }
   ],
   "source": [
    "y_train.shape, y_val.shape, y_test.shape"
   ]
  },
  {
   "cell_type": "markdown",
   "metadata": {},
   "source": [
    "### Building model : Like  x = layers.Dense(...)"
   ]
  },
  {
   "cell_type": "markdown",
   "metadata": {},
   "source": [
    "1. לבנות מבנה בצורת functional keras (טנסור אינפוט וטנסור אאוטפוט)\n",
    "2. כמה נויורונים יהיו בכל שכבה\n",
    "3. כתיבת פייתון מתקדם - שימוש בקלאס ובבנאי מודל.\n",
    "4. פונקציית call שבונה עוד שכבות? \n",
    "5. להשתמש לא בsequantial רק מחלקות!\n",
    "6. גם הקומפייל ליצור אותו בתוך הקלאס\n",
    "7. גם האופטימייזר\n",
    "8. \n",
    "\n",
    "לבנות מחלקה ולבצע לה אימון\n",
    "לשמור משקולות ולהדגים במחברת טעינה מחדש."
   ]
  },
  {
   "cell_type": "markdown",
   "metadata": {},
   "source": [
    "# class SPINE"
   ]
  },
  {
   "cell_type": "code",
   "execution_count": 359,
   "metadata": {},
   "outputs": [],
   "source": [
    "class Spine(keras.Model):\n",
    "    \n",
    "    def __init__(self, input_shape,lr=0.001, type=\"adam\"):\n",
    "    \n",
    "        super(Spine, self).__init__()\n",
    "\n",
    "        self.d1 = layers.Dense((input_shape*3), activation = 'elu', input_shape = [input_shape])\n",
    "        self.d2 = layers.Dense((input_shape*2), activation = 'elu')\n",
    "        \n",
    "        self.d3 = layers.Dense(1, activation = 'sigmoid')\n",
    "        self.cmp(type,lr)\n",
    "        \n",
    "\n",
    "    def cmp(self,opt,lr):\n",
    "        if opt == 'adam':\n",
    "            \n",
    "            self.compile(optimizer = keras.optimizers.Adam(learning_rate=lr),\n",
    "             loss = tf.keras.losses.BinaryCrossentropy(),\n",
    "             metrics = ['accuracy'])\n",
    "        elif opt == 'sgd':\n",
    "            self.compile(optimizer = keras.optimizers.SGD(lr = lr),\n",
    "             loss = tf.keras.losses.BinaryCrossentropy(),\n",
    "             metrics = ['accuracy'])\n",
    "        elif opt == 'rmsprop':\n",
    "            self.compile(optimizer = keras.optimizers.RMSprop(lr = lr),\n",
    "             loss = tf.keras.losses.BinaryCrossentropy(),\n",
    "             metrics = ['accuracy'])\n",
    "        else:\n",
    "            print(\"Adam is best optimizer, Dont be stopid choose Adam\")\n",
    "      \n",
    "\n",
    "    def fit_func(self, x_train, y_train, x_val, y_val, epochs, batch_size):\n",
    "        \n",
    "        history=self.fit(x_train, y_train, validation_data=(x_val, y_val), epochs=epochs, batch_size=batch_size)\n",
    "        return history\n",
    "\n",
    "    def call(self, data):#<--------------------------------------forwared\n",
    "        \n",
    "        x = self.d1(data)\n",
    "        x = self.d2(x)\n",
    "\n",
    "        x = self.d3(x)\n",
    "        \n",
    "        return x\n",
    "\n",
    "    def predict_func(self, x_test,y_test ):\n",
    "        score = self.evaluate(x_test, y_test)\n",
    "        score_df = pd.Series(score, index = self.metrics_names)\n",
    "\n",
    "        return score_df\n",
    "\n",
    " \n",
    "    def save_model_json(self, path):\n",
    "        # self.save_model_json(path)\n",
    "        model = tf.keras.Sequential([\n",
    "        self.d1,\n",
    "        self.d2,\n",
    "        self.d3 ])\n",
    "        js = model.to_json()\n",
    "        import pprint\n",
    "        pprint.pprint(js)\n",
    "        with open(path, 'w') as f:\n",
    "            f.write(js)\n",
    "            \n",
    "    def save_weights_model(self, path):\n",
    "        \n",
    "        model = tf.keras.Sequential([\n",
    "        self.d1,\n",
    "        self.d2,\n",
    "        self.d3 ])\n",
    "\n",
    "        model.save_weights(\"wwww\")\n",
    "    \n",
    "    \n",
    "        \n",
    "        \n",
    "    \n",
    "\n",
    "\n",
    "    # def graphs\n",
    "\n",
    "    # def early stoppin\n",
    "    # checkpoint\n",
    "    \n",
    "    \n",
    "\n",
    "    \n",
    "\n",
    "    \n",
    "\n",
    "\n",
    "    \n",
    "\n",
    "model = Spine(input_shape = x_train.shape[1])\n"
   ]
  },
  {
   "cell_type": "code",
   "execution_count": 360,
   "metadata": {},
   "outputs": [
    {
     "name": "stdout",
     "output_type": "stream",
     "text": [
      "Epoch 1/100\n",
      "7/7 [==============================] - 0s 13ms/step - loss: 0.5960 - accuracy: 0.6816 - val_loss: 0.6335 - val_accuracy: 0.6000\n",
      "Epoch 2/100\n",
      "7/7 [==============================] - 0s 2ms/step - loss: 0.5369 - accuracy: 0.7489 - val_loss: 0.5907 - val_accuracy: 0.6250\n",
      "Epoch 3/100\n",
      "7/7 [==============================] - 0s 2ms/step - loss: 0.5014 - accuracy: 0.7758 - val_loss: 0.5551 - val_accuracy: 0.6750\n",
      "Epoch 4/100\n",
      "7/7 [==============================] - 0s 2ms/step - loss: 0.4702 - accuracy: 0.7848 - val_loss: 0.5307 - val_accuracy: 0.6750\n",
      "Epoch 5/100\n",
      "7/7 [==============================] - 0s 2ms/step - loss: 0.4489 - accuracy: 0.7982 - val_loss: 0.5094 - val_accuracy: 0.7000\n",
      "Epoch 6/100\n",
      "7/7 [==============================] - 0s 2ms/step - loss: 0.4301 - accuracy: 0.8206 - val_loss: 0.4915 - val_accuracy: 0.7500\n",
      "Epoch 7/100\n",
      "7/7 [==============================] - 0s 2ms/step - loss: 0.4164 - accuracy: 0.8206 - val_loss: 0.4768 - val_accuracy: 0.7500\n",
      "Epoch 8/100\n",
      "7/7 [==============================] - 0s 2ms/step - loss: 0.4038 - accuracy: 0.8341 - val_loss: 0.4634 - val_accuracy: 0.7750\n",
      "Epoch 9/100\n",
      "7/7 [==============================] - 0s 2ms/step - loss: 0.3937 - accuracy: 0.8341 - val_loss: 0.4503 - val_accuracy: 0.7750\n",
      "Epoch 10/100\n",
      "7/7 [==============================] - 0s 2ms/step - loss: 0.3844 - accuracy: 0.8430 - val_loss: 0.4384 - val_accuracy: 0.7750\n",
      "Epoch 11/100\n",
      "7/7 [==============================] - 0s 2ms/step - loss: 0.3766 - accuracy: 0.8430 - val_loss: 0.4265 - val_accuracy: 0.7750\n",
      "Epoch 12/100\n",
      "7/7 [==============================] - 0s 2ms/step - loss: 0.3688 - accuracy: 0.8430 - val_loss: 0.4173 - val_accuracy: 0.7750\n",
      "Epoch 13/100\n",
      "7/7 [==============================] - 0s 2ms/step - loss: 0.3625 - accuracy: 0.8565 - val_loss: 0.4074 - val_accuracy: 0.7750\n",
      "Epoch 14/100\n",
      "7/7 [==============================] - 0s 2ms/step - loss: 0.3559 - accuracy: 0.8655 - val_loss: 0.3984 - val_accuracy: 0.8000\n",
      "Epoch 15/100\n",
      "7/7 [==============================] - 0s 2ms/step - loss: 0.3502 - accuracy: 0.8700 - val_loss: 0.3898 - val_accuracy: 0.8250\n",
      "Epoch 16/100\n",
      "7/7 [==============================] - 0s 2ms/step - loss: 0.3451 - accuracy: 0.8655 - val_loss: 0.3835 - val_accuracy: 0.8250\n",
      "Epoch 17/100\n",
      "7/7 [==============================] - 0s 2ms/step - loss: 0.3400 - accuracy: 0.8655 - val_loss: 0.3763 - val_accuracy: 0.8250\n",
      "Epoch 18/100\n",
      "7/7 [==============================] - 0s 2ms/step - loss: 0.3341 - accuracy: 0.8565 - val_loss: 0.3705 - val_accuracy: 0.8250\n",
      "Epoch 19/100\n",
      "7/7 [==============================] - 0s 2ms/step - loss: 0.3298 - accuracy: 0.8610 - val_loss: 0.3634 - val_accuracy: 0.8250\n",
      "Epoch 20/100\n",
      "7/7 [==============================] - 0s 2ms/step - loss: 0.3254 - accuracy: 0.8610 - val_loss: 0.3575 - val_accuracy: 0.8250\n",
      "Epoch 21/100\n",
      "7/7 [==============================] - 0s 2ms/step - loss: 0.3206 - accuracy: 0.8610 - val_loss: 0.3514 - val_accuracy: 0.8250\n",
      "Epoch 22/100\n",
      "7/7 [==============================] - 0s 2ms/step - loss: 0.3162 - accuracy: 0.8565 - val_loss: 0.3474 - val_accuracy: 0.8250\n",
      "Epoch 23/100\n",
      "7/7 [==============================] - 0s 2ms/step - loss: 0.3121 - accuracy: 0.8655 - val_loss: 0.3410 - val_accuracy: 0.8750\n",
      "Epoch 24/100\n",
      "7/7 [==============================] - 0s 2ms/step - loss: 0.3081 - accuracy: 0.8655 - val_loss: 0.3355 - val_accuracy: 0.8750\n",
      "Epoch 25/100\n",
      "7/7 [==============================] - 0s 2ms/step - loss: 0.3038 - accuracy: 0.8700 - val_loss: 0.3309 - val_accuracy: 0.8750\n",
      "Epoch 26/100\n",
      "7/7 [==============================] - 0s 2ms/step - loss: 0.3008 - accuracy: 0.8700 - val_loss: 0.3264 - val_accuracy: 0.8500\n",
      "Epoch 27/100\n",
      "7/7 [==============================] - 0s 2ms/step - loss: 0.2969 - accuracy: 0.8700 - val_loss: 0.3239 - val_accuracy: 0.8250\n",
      "Epoch 28/100\n",
      "7/7 [==============================] - 0s 2ms/step - loss: 0.2940 - accuracy: 0.8700 - val_loss: 0.3210 - val_accuracy: 0.8500\n",
      "Epoch 29/100\n",
      "7/7 [==============================] - 0s 2ms/step - loss: 0.2900 - accuracy: 0.8655 - val_loss: 0.3166 - val_accuracy: 0.8500\n",
      "Epoch 30/100\n",
      "7/7 [==============================] - 0s 2ms/step - loss: 0.2867 - accuracy: 0.8744 - val_loss: 0.3126 - val_accuracy: 0.8500\n",
      "Epoch 31/100\n",
      "7/7 [==============================] - 0s 2ms/step - loss: 0.2838 - accuracy: 0.8789 - val_loss: 0.3090 - val_accuracy: 0.8250\n",
      "Epoch 32/100\n",
      "7/7 [==============================] - 0s 2ms/step - loss: 0.2825 - accuracy: 0.8789 - val_loss: 0.3070 - val_accuracy: 0.8500\n",
      "Epoch 33/100\n",
      "7/7 [==============================] - 0s 2ms/step - loss: 0.2777 - accuracy: 0.8789 - val_loss: 0.3054 - val_accuracy: 0.8500\n",
      "Epoch 34/100\n",
      "7/7 [==============================] - 0s 2ms/step - loss: 0.2764 - accuracy: 0.8744 - val_loss: 0.3038 - val_accuracy: 0.8500\n",
      "Epoch 35/100\n",
      "7/7 [==============================] - 0s 2ms/step - loss: 0.2736 - accuracy: 0.8789 - val_loss: 0.3015 - val_accuracy: 0.8500\n",
      "Epoch 36/100\n",
      "7/7 [==============================] - 0s 2ms/step - loss: 0.2714 - accuracy: 0.8744 - val_loss: 0.3000 - val_accuracy: 0.8500\n",
      "Epoch 37/100\n",
      "7/7 [==============================] - 0s 2ms/step - loss: 0.2688 - accuracy: 0.8744 - val_loss: 0.2970 - val_accuracy: 0.8500\n",
      "Epoch 38/100\n",
      "7/7 [==============================] - 0s 2ms/step - loss: 0.2672 - accuracy: 0.8700 - val_loss: 0.2966 - val_accuracy: 0.8500\n",
      "Epoch 39/100\n",
      "7/7 [==============================] - 0s 2ms/step - loss: 0.2644 - accuracy: 0.8700 - val_loss: 0.2950 - val_accuracy: 0.8500\n",
      "Epoch 40/100\n",
      "7/7 [==============================] - 0s 2ms/step - loss: 0.2625 - accuracy: 0.8700 - val_loss: 0.2927 - val_accuracy: 0.8500\n",
      "Epoch 41/100\n",
      "7/7 [==============================] - 0s 2ms/step - loss: 0.2611 - accuracy: 0.8744 - val_loss: 0.2912 - val_accuracy: 0.8500\n",
      "Epoch 42/100\n",
      "7/7 [==============================] - 0s 2ms/step - loss: 0.2593 - accuracy: 0.8789 - val_loss: 0.2899 - val_accuracy: 0.8500\n",
      "Epoch 43/100\n",
      "7/7 [==============================] - 0s 2ms/step - loss: 0.2569 - accuracy: 0.8744 - val_loss: 0.2905 - val_accuracy: 0.8500\n",
      "Epoch 44/100\n",
      "7/7 [==============================] - 0s 2ms/step - loss: 0.2551 - accuracy: 0.8700 - val_loss: 0.2895 - val_accuracy: 0.8500\n",
      "Epoch 45/100\n",
      "7/7 [==============================] - 0s 2ms/step - loss: 0.2540 - accuracy: 0.8700 - val_loss: 0.2894 - val_accuracy: 0.8500\n",
      "Epoch 46/100\n",
      "7/7 [==============================] - 0s 2ms/step - loss: 0.2526 - accuracy: 0.8789 - val_loss: 0.2865 - val_accuracy: 0.8500\n",
      "Epoch 47/100\n",
      "7/7 [==============================] - 0s 2ms/step - loss: 0.2513 - accuracy: 0.8744 - val_loss: 0.2856 - val_accuracy: 0.8500\n",
      "Epoch 48/100\n",
      "7/7 [==============================] - 0s 2ms/step - loss: 0.2493 - accuracy: 0.8700 - val_loss: 0.2869 - val_accuracy: 0.8500\n",
      "Epoch 49/100\n",
      "7/7 [==============================] - 0s 2ms/step - loss: 0.2483 - accuracy: 0.8834 - val_loss: 0.2858 - val_accuracy: 0.8500\n",
      "Epoch 50/100\n",
      "7/7 [==============================] - 0s 2ms/step - loss: 0.2461 - accuracy: 0.8879 - val_loss: 0.2861 - val_accuracy: 0.8500\n",
      "Epoch 51/100\n",
      "7/7 [==============================] - 0s 2ms/step - loss: 0.2455 - accuracy: 0.8789 - val_loss: 0.2867 - val_accuracy: 0.8500\n",
      "Epoch 52/100\n",
      "7/7 [==============================] - 0s 2ms/step - loss: 0.2444 - accuracy: 0.8744 - val_loss: 0.2880 - val_accuracy: 0.8500\n",
      "Epoch 53/100\n",
      "7/7 [==============================] - 0s 2ms/step - loss: 0.2425 - accuracy: 0.8789 - val_loss: 0.2864 - val_accuracy: 0.8500\n",
      "Epoch 54/100\n",
      "7/7 [==============================] - 0s 2ms/step - loss: 0.2414 - accuracy: 0.8834 - val_loss: 0.2855 - val_accuracy: 0.8500\n",
      "Epoch 55/100\n",
      "7/7 [==============================] - 0s 2ms/step - loss: 0.2409 - accuracy: 0.8924 - val_loss: 0.2856 - val_accuracy: 0.8500\n",
      "Epoch 56/100\n",
      "7/7 [==============================] - 0s 2ms/step - loss: 0.2389 - accuracy: 0.8924 - val_loss: 0.2851 - val_accuracy: 0.8500\n",
      "Epoch 57/100\n",
      "7/7 [==============================] - 0s 2ms/step - loss: 0.2375 - accuracy: 0.8879 - val_loss: 0.2859 - val_accuracy: 0.8500\n",
      "Epoch 58/100\n",
      "7/7 [==============================] - 0s 2ms/step - loss: 0.2370 - accuracy: 0.8834 - val_loss: 0.2880 - val_accuracy: 0.8500\n",
      "Epoch 59/100\n",
      "7/7 [==============================] - 0s 2ms/step - loss: 0.2351 - accuracy: 0.8879 - val_loss: 0.2871 - val_accuracy: 0.8500\n",
      "Epoch 60/100\n",
      "7/7 [==============================] - 0s 2ms/step - loss: 0.2354 - accuracy: 0.8924 - val_loss: 0.2864 - val_accuracy: 0.8500\n",
      "Epoch 61/100\n",
      "7/7 [==============================] - 0s 2ms/step - loss: 0.2343 - accuracy: 0.8789 - val_loss: 0.2857 - val_accuracy: 0.8500\n",
      "Epoch 62/100\n",
      "7/7 [==============================] - 0s 2ms/step - loss: 0.2340 - accuracy: 0.8789 - val_loss: 0.2843 - val_accuracy: 0.8500\n",
      "Epoch 63/100\n",
      "7/7 [==============================] - 0s 2ms/step - loss: 0.2309 - accuracy: 0.8834 - val_loss: 0.2854 - val_accuracy: 0.8500\n",
      "Epoch 64/100\n",
      "7/7 [==============================] - 0s 2ms/step - loss: 0.2300 - accuracy: 0.8834 - val_loss: 0.2845 - val_accuracy: 0.8500\n",
      "Epoch 65/100\n",
      "7/7 [==============================] - 0s 2ms/step - loss: 0.2287 - accuracy: 0.8834 - val_loss: 0.2850 - val_accuracy: 0.8500\n",
      "Epoch 66/100\n",
      "7/7 [==============================] - 0s 2ms/step - loss: 0.2277 - accuracy: 0.8969 - val_loss: 0.2872 - val_accuracy: 0.8500\n",
      "Epoch 67/100\n",
      "7/7 [==============================] - 0s 2ms/step - loss: 0.2279 - accuracy: 0.8879 - val_loss: 0.2873 - val_accuracy: 0.8500\n",
      "Epoch 68/100\n",
      "7/7 [==============================] - 0s 2ms/step - loss: 0.2275 - accuracy: 0.8924 - val_loss: 0.2878 - val_accuracy: 0.8500\n",
      "Epoch 69/100\n",
      "7/7 [==============================] - 0s 2ms/step - loss: 0.2256 - accuracy: 0.8924 - val_loss: 0.2868 - val_accuracy: 0.8500\n",
      "Epoch 70/100\n",
      "7/7 [==============================] - 0s 2ms/step - loss: 0.2241 - accuracy: 0.8969 - val_loss: 0.2881 - val_accuracy: 0.8500\n",
      "Epoch 71/100\n",
      "7/7 [==============================] - 0s 2ms/step - loss: 0.2239 - accuracy: 0.8924 - val_loss: 0.2884 - val_accuracy: 0.8500\n",
      "Epoch 72/100\n",
      "7/7 [==============================] - 0s 2ms/step - loss: 0.2219 - accuracy: 0.8969 - val_loss: 0.2874 - val_accuracy: 0.8500\n",
      "Epoch 73/100\n",
      "7/7 [==============================] - 0s 2ms/step - loss: 0.2218 - accuracy: 0.9013 - val_loss: 0.2898 - val_accuracy: 0.8500\n",
      "Epoch 74/100\n",
      "7/7 [==============================] - 0s 2ms/step - loss: 0.2202 - accuracy: 0.8969 - val_loss: 0.2886 - val_accuracy: 0.8500\n",
      "Epoch 75/100\n",
      "7/7 [==============================] - 0s 2ms/step - loss: 0.2194 - accuracy: 0.8969 - val_loss: 0.2890 - val_accuracy: 0.8500\n",
      "Epoch 76/100\n",
      "7/7 [==============================] - 0s 2ms/step - loss: 0.2187 - accuracy: 0.8969 - val_loss: 0.2899 - val_accuracy: 0.8500\n",
      "Epoch 77/100\n",
      "7/7 [==============================] - 0s 2ms/step - loss: 0.2172 - accuracy: 0.9058 - val_loss: 0.2906 - val_accuracy: 0.8500\n",
      "Epoch 78/100\n",
      "7/7 [==============================] - 0s 2ms/step - loss: 0.2162 - accuracy: 0.9058 - val_loss: 0.2910 - val_accuracy: 0.8500\n",
      "Epoch 79/100\n",
      "7/7 [==============================] - 0s 2ms/step - loss: 0.2150 - accuracy: 0.9013 - val_loss: 0.2910 - val_accuracy: 0.8500\n",
      "Epoch 80/100\n",
      "7/7 [==============================] - 0s 2ms/step - loss: 0.2167 - accuracy: 0.8969 - val_loss: 0.2932 - val_accuracy: 0.8500\n",
      "Epoch 81/100\n",
      "7/7 [==============================] - 0s 2ms/step - loss: 0.2138 - accuracy: 0.9013 - val_loss: 0.2915 - val_accuracy: 0.8500\n",
      "Epoch 82/100\n",
      "7/7 [==============================] - 0s 2ms/step - loss: 0.2126 - accuracy: 0.9013 - val_loss: 0.2917 - val_accuracy: 0.8500\n",
      "Epoch 83/100\n",
      "7/7 [==============================] - 0s 2ms/step - loss: 0.2117 - accuracy: 0.9013 - val_loss: 0.2908 - val_accuracy: 0.8500\n",
      "Epoch 84/100\n",
      "7/7 [==============================] - 0s 2ms/step - loss: 0.2104 - accuracy: 0.9013 - val_loss: 0.2910 - val_accuracy: 0.8500\n",
      "Epoch 85/100\n",
      "7/7 [==============================] - 0s 2ms/step - loss: 0.2098 - accuracy: 0.9013 - val_loss: 0.2943 - val_accuracy: 0.8500\n",
      "Epoch 86/100\n",
      "7/7 [==============================] - 0s 2ms/step - loss: 0.2095 - accuracy: 0.9013 - val_loss: 0.2950 - val_accuracy: 0.8500\n",
      "Epoch 87/100\n",
      "7/7 [==============================] - 0s 2ms/step - loss: 0.2074 - accuracy: 0.9058 - val_loss: 0.2952 - val_accuracy: 0.8500\n",
      "Epoch 88/100\n",
      "7/7 [==============================] - 0s 2ms/step - loss: 0.2090 - accuracy: 0.8969 - val_loss: 0.2948 - val_accuracy: 0.8500\n",
      "Epoch 89/100\n",
      "7/7 [==============================] - 0s 2ms/step - loss: 0.2057 - accuracy: 0.9013 - val_loss: 0.2945 - val_accuracy: 0.8500\n",
      "Epoch 90/100\n",
      "7/7 [==============================] - 0s 2ms/step - loss: 0.2061 - accuracy: 0.9058 - val_loss: 0.2954 - val_accuracy: 0.8500\n",
      "Epoch 91/100\n",
      "7/7 [==============================] - 0s 2ms/step - loss: 0.2043 - accuracy: 0.9058 - val_loss: 0.2968 - val_accuracy: 0.8500\n",
      "Epoch 92/100\n",
      "7/7 [==============================] - 0s 2ms/step - loss: 0.2027 - accuracy: 0.9058 - val_loss: 0.2967 - val_accuracy: 0.8500\n",
      "Epoch 93/100\n",
      "7/7 [==============================] - 0s 2ms/step - loss: 0.2017 - accuracy: 0.9058 - val_loss: 0.2968 - val_accuracy: 0.8500\n",
      "Epoch 94/100\n",
      "7/7 [==============================] - 0s 2ms/step - loss: 0.2007 - accuracy: 0.9058 - val_loss: 0.2964 - val_accuracy: 0.8500\n",
      "Epoch 95/100\n",
      "7/7 [==============================] - 0s 2ms/step - loss: 0.2008 - accuracy: 0.9103 - val_loss: 0.2979 - val_accuracy: 0.8500\n",
      "Epoch 96/100\n",
      "7/7 [==============================] - 0s 2ms/step - loss: 0.2000 - accuracy: 0.9103 - val_loss: 0.2977 - val_accuracy: 0.8500\n",
      "Epoch 97/100\n",
      "7/7 [==============================] - 0s 2ms/step - loss: 0.1980 - accuracy: 0.9058 - val_loss: 0.3006 - val_accuracy: 0.8500\n",
      "Epoch 98/100\n",
      "7/7 [==============================] - 0s 2ms/step - loss: 0.1979 - accuracy: 0.9058 - val_loss: 0.3002 - val_accuracy: 0.8500\n",
      "Epoch 99/100\n",
      "7/7 [==============================] - 0s 2ms/step - loss: 0.1966 - accuracy: 0.9013 - val_loss: 0.3017 - val_accuracy: 0.8500\n",
      "Epoch 100/100\n",
      "7/7 [==============================] - 0s 2ms/step - loss: 0.1957 - accuracy: 0.9058 - val_loss: 0.3018 - val_accuracy: 0.8500\n"
     ]
    },
    {
     "data": {
      "text/plain": [
       "<keras.callbacks.History at 0x2867c8c10>"
      ]
     },
     "execution_count": 360,
     "metadata": {},
     "output_type": "execute_result"
    }
   ],
   "source": [
    "model.fit_func(x_train, y_train, x_val, y_val, epochs=100, batch_size=32)"
   ]
  },
  {
   "cell_type": "code",
   "execution_count": 361,
   "metadata": {},
   "outputs": [
    {
     "name": "stdout",
     "output_type": "stream",
     "text": [
      "2/2 [==============================] - 0s 1ms/step - loss: 0.3826 - accuracy: 0.8085\n"
     ]
    },
    {
     "data": {
      "text/plain": [
       "loss        0.382631\n",
       "accuracy    0.808511\n",
       "dtype: float64"
      ]
     },
     "execution_count": 361,
     "metadata": {},
     "output_type": "execute_result"
    }
   ],
   "source": [
    "model.predict_func(x_test, y_test)"
   ]
  },
  {
   "cell_type": "code",
   "execution_count": 362,
   "metadata": {},
   "outputs": [
    {
     "name": "stdout",
     "output_type": "stream",
     "text": [
      "('{\"class_name\": \"Sequential\", \"config\": {\"name\": \"sequential_20\", \"layers\": '\n",
      " '[{\"class_name\": \"InputLayer\", \"config\": {\"batch_input_shape\": [null, 12], '\n",
      " '\"dtype\": \"float32\", \"sparse\": false, \"ragged\": false, \"name\": '\n",
      " '\"dense_30_input\"}}, {\"class_name\": \"Dense\", \"config\": {\"name\": \"dense_30\", '\n",
      " '\"trainable\": true, \"batch_input_shape\": [null, 12], \"dtype\": \"float32\", '\n",
      " '\"units\": 36, \"activation\": \"elu\", \"use_bias\": true, \"kernel_initializer\": '\n",
      " '{\"class_name\": \"GlorotUniform\", \"config\": {\"seed\": null}}, '\n",
      " '\"bias_initializer\": {\"class_name\": \"Zeros\", \"config\": {}}, '\n",
      " '\"kernel_regularizer\": null, \"bias_regularizer\": null, '\n",
      " '\"activity_regularizer\": null, \"kernel_constraint\": null, \"bias_constraint\": '\n",
      " 'null}}, {\"class_name\": \"Dense\", \"config\": {\"name\": \"dense_31\", \"trainable\": '\n",
      " 'true, \"dtype\": \"float32\", \"units\": 24, \"activation\": \"elu\", \"use_bias\": '\n",
      " 'true, \"kernel_initializer\": {\"class_name\": \"GlorotUniform\", \"config\": '\n",
      " '{\"seed\": null}}, \"bias_initializer\": {\"class_name\": \"Zeros\", \"config\": {}}, '\n",
      " '\"kernel_regularizer\": null, \"bias_regularizer\": null, '\n",
      " '\"activity_regularizer\": null, \"kernel_constraint\": null, \"bias_constraint\": '\n",
      " 'null}}, {\"class_name\": \"Dense\", \"config\": {\"name\": \"dense_32\", \"trainable\": '\n",
      " 'true, \"dtype\": \"float32\", \"units\": 1, \"activation\": \"sigmoid\", \"use_bias\": '\n",
      " 'true, \"kernel_initializer\": {\"class_name\": \"GlorotUniform\", \"config\": '\n",
      " '{\"seed\": null}}, \"bias_initializer\": {\"class_name\": \"Zeros\", \"config\": {}}, '\n",
      " '\"kernel_regularizer\": null, \"bias_regularizer\": null, '\n",
      " '\"activity_regularizer\": null, \"kernel_constraint\": null, \"bias_constraint\": '\n",
      " 'null}}]}, \"keras_version\": \"2.9.0\", \"backend\": \"tensorflow\"}')\n"
     ]
    }
   ],
   "source": [
    "# save model to json\n",
    "model.save_model_json(\"model.json\")\n",
    "model.save_weights_model(\"weighs\")\n"
   ]
  },
  {
   "cell_type": "markdown",
   "metadata": {},
   "source": [
    "# load model:"
   ]
  },
  {
   "cell_type": "code",
   "execution_count": 363,
   "metadata": {},
   "outputs": [],
   "source": [
    "#load model\n",
    "import json\n",
    "with open('model.json', 'r') as infile: \n",
    "    \n",
    "    model_json = json.load(infile)\n",
    "\n"
   ]
  },
  {
   "cell_type": "code",
   "execution_count": 364,
   "metadata": {},
   "outputs": [],
   "source": [
    "# import pprint\n",
    "\n",
    "# pprint.pprint(model_json)"
   ]
  },
  {
   "cell_type": "code",
   "execution_count": 365,
   "metadata": {},
   "outputs": [
    {
     "name": "stdout",
     "output_type": "stream",
     "text": [
      "Model: \"sequential_20\"\n",
      "_________________________________________________________________\n",
      " Layer (type)                Output Shape              Param #   \n",
      "=================================================================\n",
      " dense_30 (Dense)            (None, 36)                468       \n",
      "                                                                 \n",
      " dense_31 (Dense)            (None, 24)                888       \n",
      "                                                                 \n",
      " dense_32 (Dense)            (None, 1)                 25        \n",
      "                                                                 \n",
      "=================================================================\n",
      "Total params: 1,381\n",
      "Trainable params: 1,381\n",
      "Non-trainable params: 0\n",
      "_________________________________________________________________\n"
     ]
    }
   ],
   "source": [
    "model = tf.keras.models.model_from_json(json.dumps(model_json))\n",
    "\n",
    "model.summary()"
   ]
  },
  {
   "cell_type": "markdown",
   "metadata": {},
   "source": [
    "# without weights"
   ]
  },
  {
   "cell_type": "code",
   "execution_count": 366,
   "metadata": {},
   "outputs": [
    {
     "name": "stdout",
     "output_type": "stream",
     "text": [
      "2/2 [==============================] - 0s 1ms/step\n"
     ]
    },
    {
     "data": {
      "text/plain": [
       "0.10495598687802632"
      ]
     },
     "execution_count": 366,
     "metadata": {},
     "output_type": "execute_result"
    }
   ],
   "source": [
    "y_pred_after_loading = model.predict(x_test)\n",
    "# r2 score import\n",
    "from sklearn.metrics import r2_score\n",
    "\n",
    "r2_score( y_test,y_pred_after_loading)"
   ]
  },
  {
   "cell_type": "markdown",
   "metadata": {},
   "source": [
    "# adding weights"
   ]
  },
  {
   "cell_type": "code",
   "execution_count": 367,
   "metadata": {},
   "outputs": [
    {
     "data": {
      "text/plain": [
       "<tensorflow.python.training.tracking.util.CheckpointLoadStatus at 0x2909adbd0>"
      ]
     },
     "execution_count": 367,
     "metadata": {},
     "output_type": "execute_result"
    }
   ],
   "source": [
    "# load weights into new model\n",
    "model.load_weights(\"wwww\")\n"
   ]
  },
  {
   "cell_type": "code",
   "execution_count": 368,
   "metadata": {},
   "outputs": [
    {
     "name": "stdout",
     "output_type": "stream",
     "text": [
      "2/2 [==============================] - 0s 1ms/step\n"
     ]
    },
    {
     "data": {
      "text/plain": [
       "0.4811355289562389"
      ]
     },
     "execution_count": 368,
     "metadata": {},
     "output_type": "execute_result"
    }
   ],
   "source": [
    "y_pred_after_loading = model.predict(x_test)\n",
    "# r2 score import\n",
    "from sklearn.metrics import r2_score\n",
    "\n",
    "r2_score( y_test,y_pred_after_loading)"
   ]
  }
 ],
 "metadata": {
  "kernelspec": {
   "display_name": "Python 3.10.4 64-bit",
   "language": "python",
   "name": "python3"
  },
  "language_info": {
   "codemirror_mode": {
    "name": "ipython",
    "version": 3
   },
   "file_extension": ".py",
   "mimetype": "text/x-python",
   "name": "python",
   "nbconvert_exporter": "python",
   "pygments_lexer": "ipython3",
   "version": "3.10.4"
  },
  "vscode": {
   "interpreter": {
    "hash": "aee8b7b246df8f9039afb4144a1f6fd8d2ca17a180786b69acc140d282b71a49"
   }
  }
 },
 "nbformat": 4,
 "nbformat_minor": 2
}
